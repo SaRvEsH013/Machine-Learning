{
  "nbformat": 4,
  "nbformat_minor": 0,
  "metadata": {
    "colab": {
      "name": "B20EE059_LAB04.ipynb",
      "provenance": [],
      "collapsed_sections": []
    },
    "kernelspec": {
      "name": "python3",
      "display_name": "Python 3"
    },
    "language_info": {
      "name": "python"
    }
  },
  "cells": [
    {
      "cell_type": "code",
      "execution_count": null,
      "metadata": {
        "id": "6GP7Ns-xjef8"
      },
      "outputs": [],
      "source": [
        "import pandas as pd\n",
        "import numpy as np\n",
        "import csv\n",
        "import matplotlib.pyplot as plt\n",
        "from sklearn.tree import DecisionTreeRegressor\n",
        "from sklearn.metrics import mean_squared_error as mse\n",
        "from sklearn.metrics import accuracy_score as acc\n",
        "from sklearn.metrics import r2_score\n",
        "from sklearn.preprocessing import OrdinalEncoder\n",
        "from sklearn.preprocessing import LabelEncoder\n",
        "from sklearn.preprocessing import StandardScaler\n",
        "import seaborn as sns\n",
        "from sklearn.preprocessing import LabelEncoder\n",
        "from sklearn.model_selection import train_test_split\n",
        "\n",
        "filePath = \"/content/titanic.csv\""
      ]
    },
    {
      "cell_type": "markdown",
      "source": [
        "#Q1]"
      ],
      "metadata": {
        "id": "f9Q0IdRu5uOV"
      }
    },
    {
      "cell_type": "markdown",
      "source": [
        "1]"
      ],
      "metadata": {
        "id": "ubN3aRus5woW"
      }
    },
    {
      "cell_type": "code",
      "source": [
        "df = pd.read_csv(filePath)\n",
        "df = df.drop(['PassengerId', 'Name', 'Ticket', 'Cabin'], axis = 1)\n",
        "df = df.fillna(df.mean())\n",
        "l = df.columns[df.isnull().any()].tolist()\n",
        "print(l)\n",
        "\n",
        "df = df.fillna('S')\n",
        "df = df.astype({'Age': 'int32'})\n",
        "lbcode = LabelEncoder()\n",
        "df.Sex = lbcode.fit_transform(df.Sex)\n",
        "df.Embarked = lbcode.fit_transform(df.Embarked)\n",
        "\n",
        "#sns.pairplot(data=df, hue = 'Survived')\n",
        "\n",
        "x= df.drop('Survived', axis = 1)                                                 #drop output from dataset and store in x\n",
        "y= df.Survived                                                                   #define y as output\n",
        "\n",
        "x_train,x_test,y_train,y_test = train_test_split(x,y,train_size  =0.7, random_state=0) #split\n",
        "x_train"
      ],
      "metadata": {
        "colab": {
          "base_uri": "https://localhost:8080/",
          "height": 496
        },
        "id": "xpEzy5XC3F7n",
        "outputId": "f9181d03-1aa6-412b-b364-4e12e0b49afc"
      },
      "execution_count": null,
      "outputs": [
        {
          "output_type": "stream",
          "name": "stdout",
          "text": [
            "['Embarked']\n"
          ]
        },
        {
          "output_type": "stream",
          "name": "stderr",
          "text": [
            "/usr/local/lib/python3.7/dist-packages/ipykernel_launcher.py:3: FutureWarning: Dropping of nuisance columns in DataFrame reductions (with 'numeric_only=None') is deprecated; in a future version this will raise TypeError.  Select only valid columns before calling the reduction.\n",
            "  This is separate from the ipykernel package so we can avoid doing imports until\n"
          ]
        },
        {
          "output_type": "execute_result",
          "data": {
            "text/html": [
              "\n",
              "  <div id=\"df-d3e2f989-413d-49e7-a2c1-02679ffb2643\">\n",
              "    <div class=\"colab-df-container\">\n",
              "      <div>\n",
              "<style scoped>\n",
              "    .dataframe tbody tr th:only-of-type {\n",
              "        vertical-align: middle;\n",
              "    }\n",
              "\n",
              "    .dataframe tbody tr th {\n",
              "        vertical-align: top;\n",
              "    }\n",
              "\n",
              "    .dataframe thead th {\n",
              "        text-align: right;\n",
              "    }\n",
              "</style>\n",
              "<table border=\"1\" class=\"dataframe\">\n",
              "  <thead>\n",
              "    <tr style=\"text-align: right;\">\n",
              "      <th></th>\n",
              "      <th>Pclass</th>\n",
              "      <th>Sex</th>\n",
              "      <th>Age</th>\n",
              "      <th>Fare</th>\n",
              "      <th>Embarked</th>\n",
              "    </tr>\n",
              "  </thead>\n",
              "  <tbody>\n",
              "    <tr>\n",
              "      <th>857</th>\n",
              "      <td>1</td>\n",
              "      <td>1</td>\n",
              "      <td>51</td>\n",
              "      <td>26.5500</td>\n",
              "      <td>2</td>\n",
              "    </tr>\n",
              "    <tr>\n",
              "      <th>52</th>\n",
              "      <td>1</td>\n",
              "      <td>0</td>\n",
              "      <td>49</td>\n",
              "      <td>76.7292</td>\n",
              "      <td>0</td>\n",
              "    </tr>\n",
              "    <tr>\n",
              "      <th>386</th>\n",
              "      <td>3</td>\n",
              "      <td>1</td>\n",
              "      <td>1</td>\n",
              "      <td>46.9000</td>\n",
              "      <td>2</td>\n",
              "    </tr>\n",
              "    <tr>\n",
              "      <th>124</th>\n",
              "      <td>1</td>\n",
              "      <td>1</td>\n",
              "      <td>54</td>\n",
              "      <td>77.2875</td>\n",
              "      <td>2</td>\n",
              "    </tr>\n",
              "    <tr>\n",
              "      <th>578</th>\n",
              "      <td>3</td>\n",
              "      <td>0</td>\n",
              "      <td>29</td>\n",
              "      <td>14.4583</td>\n",
              "      <td>0</td>\n",
              "    </tr>\n",
              "    <tr>\n",
              "      <th>...</th>\n",
              "      <td>...</td>\n",
              "      <td>...</td>\n",
              "      <td>...</td>\n",
              "      <td>...</td>\n",
              "      <td>...</td>\n",
              "    </tr>\n",
              "    <tr>\n",
              "      <th>835</th>\n",
              "      <td>1</td>\n",
              "      <td>0</td>\n",
              "      <td>39</td>\n",
              "      <td>83.1583</td>\n",
              "      <td>0</td>\n",
              "    </tr>\n",
              "    <tr>\n",
              "      <th>192</th>\n",
              "      <td>3</td>\n",
              "      <td>0</td>\n",
              "      <td>19</td>\n",
              "      <td>7.8542</td>\n",
              "      <td>2</td>\n",
              "    </tr>\n",
              "    <tr>\n",
              "      <th>629</th>\n",
              "      <td>3</td>\n",
              "      <td>1</td>\n",
              "      <td>29</td>\n",
              "      <td>7.7333</td>\n",
              "      <td>1</td>\n",
              "    </tr>\n",
              "    <tr>\n",
              "      <th>559</th>\n",
              "      <td>3</td>\n",
              "      <td>0</td>\n",
              "      <td>36</td>\n",
              "      <td>17.4000</td>\n",
              "      <td>2</td>\n",
              "    </tr>\n",
              "    <tr>\n",
              "      <th>684</th>\n",
              "      <td>2</td>\n",
              "      <td>1</td>\n",
              "      <td>60</td>\n",
              "      <td>39.0000</td>\n",
              "      <td>2</td>\n",
              "    </tr>\n",
              "  </tbody>\n",
              "</table>\n",
              "<p>623 rows × 5 columns</p>\n",
              "</div>\n",
              "      <button class=\"colab-df-convert\" onclick=\"convertToInteractive('df-d3e2f989-413d-49e7-a2c1-02679ffb2643')\"\n",
              "              title=\"Convert this dataframe to an interactive table.\"\n",
              "              style=\"display:none;\">\n",
              "        \n",
              "  <svg xmlns=\"http://www.w3.org/2000/svg\" height=\"24px\"viewBox=\"0 0 24 24\"\n",
              "       width=\"24px\">\n",
              "    <path d=\"M0 0h24v24H0V0z\" fill=\"none\"/>\n",
              "    <path d=\"M18.56 5.44l.94 2.06.94-2.06 2.06-.94-2.06-.94-.94-2.06-.94 2.06-2.06.94zm-11 1L8.5 8.5l.94-2.06 2.06-.94-2.06-.94L8.5 2.5l-.94 2.06-2.06.94zm10 10l.94 2.06.94-2.06 2.06-.94-2.06-.94-.94-2.06-.94 2.06-2.06.94z\"/><path d=\"M17.41 7.96l-1.37-1.37c-.4-.4-.92-.59-1.43-.59-.52 0-1.04.2-1.43.59L10.3 9.45l-7.72 7.72c-.78.78-.78 2.05 0 2.83L4 21.41c.39.39.9.59 1.41.59.51 0 1.02-.2 1.41-.59l7.78-7.78 2.81-2.81c.8-.78.8-2.07 0-2.86zM5.41 20L4 18.59l7.72-7.72 1.47 1.35L5.41 20z\"/>\n",
              "  </svg>\n",
              "      </button>\n",
              "      \n",
              "  <style>\n",
              "    .colab-df-container {\n",
              "      display:flex;\n",
              "      flex-wrap:wrap;\n",
              "      gap: 12px;\n",
              "    }\n",
              "\n",
              "    .colab-df-convert {\n",
              "      background-color: #E8F0FE;\n",
              "      border: none;\n",
              "      border-radius: 50%;\n",
              "      cursor: pointer;\n",
              "      display: none;\n",
              "      fill: #1967D2;\n",
              "      height: 32px;\n",
              "      padding: 0 0 0 0;\n",
              "      width: 32px;\n",
              "    }\n",
              "\n",
              "    .colab-df-convert:hover {\n",
              "      background-color: #E2EBFA;\n",
              "      box-shadow: 0px 1px 2px rgba(60, 64, 67, 0.3), 0px 1px 3px 1px rgba(60, 64, 67, 0.15);\n",
              "      fill: #174EA6;\n",
              "    }\n",
              "\n",
              "    [theme=dark] .colab-df-convert {\n",
              "      background-color: #3B4455;\n",
              "      fill: #D2E3FC;\n",
              "    }\n",
              "\n",
              "    [theme=dark] .colab-df-convert:hover {\n",
              "      background-color: #434B5C;\n",
              "      box-shadow: 0px 1px 3px 1px rgba(0, 0, 0, 0.15);\n",
              "      filter: drop-shadow(0px 1px 2px rgba(0, 0, 0, 0.3));\n",
              "      fill: #FFFFFF;\n",
              "    }\n",
              "  </style>\n",
              "\n",
              "      <script>\n",
              "        const buttonEl =\n",
              "          document.querySelector('#df-d3e2f989-413d-49e7-a2c1-02679ffb2643 button.colab-df-convert');\n",
              "        buttonEl.style.display =\n",
              "          google.colab.kernel.accessAllowed ? 'block' : 'none';\n",
              "\n",
              "        async function convertToInteractive(key) {\n",
              "          const element = document.querySelector('#df-d3e2f989-413d-49e7-a2c1-02679ffb2643');\n",
              "          const dataTable =\n",
              "            await google.colab.kernel.invokeFunction('convertToInteractive',\n",
              "                                                     [key], {});\n",
              "          if (!dataTable) return;\n",
              "\n",
              "          const docLinkHtml = 'Like what you see? Visit the ' +\n",
              "            '<a target=\"_blank\" href=https://colab.research.google.com/notebooks/data_table.ipynb>data table notebook</a>'\n",
              "            + ' to learn more about interactive tables.';\n",
              "          element.innerHTML = '';\n",
              "          dataTable['output_type'] = 'display_data';\n",
              "          await google.colab.output.renderOutput(dataTable, element);\n",
              "          const docLink = document.createElement('div');\n",
              "          docLink.innerHTML = docLinkHtml;\n",
              "          element.appendChild(docLink);\n",
              "        }\n",
              "      </script>\n",
              "    </div>\n",
              "  </div>\n",
              "  "
            ],
            "text/plain": [
              "     Pclass  Sex  Age     Fare  Embarked\n",
              "857       1    1   51  26.5500         2\n",
              "52        1    0   49  76.7292         0\n",
              "386       3    1    1  46.9000         2\n",
              "124       1    1   54  77.2875         2\n",
              "578       3    0   29  14.4583         0\n",
              "..      ...  ...  ...      ...       ...\n",
              "835       1    0   39  83.1583         0\n",
              "192       3    0   19   7.8542         2\n",
              "629       3    1   29   7.7333         1\n",
              "559       3    0   36  17.4000         2\n",
              "684       2    1   60  39.0000         2\n",
              "\n",
              "[623 rows x 5 columns]"
            ]
          },
          "metadata": {},
          "execution_count": 74
        }
      ]
    },
    {
      "cell_type": "markdown",
      "source": [
        "2]"
      ],
      "metadata": {
        "id": "P-1cifhs9Mjc"
      }
    },
    {
      "cell_type": "code",
      "source": [
        "# It was identified that the Gaussian Naive Classifier would be the best classifier in this case since it supports continuous values.\n",
        "# The dataset was also observed to have continuous values in features - Age and Fare.\n"
      ],
      "metadata": {
        "id": "JFHF38ii9NgX"
      },
      "execution_count": null,
      "outputs": []
    },
    {
      "cell_type": "markdown",
      "source": [
        "3]"
      ],
      "metadata": {
        "id": "SwDATW68EiKa"
      }
    },
    {
      "cell_type": "code",
      "source": [
        "xdead = x_train[df['Survived'] == 0]\n",
        "ydead = y_train[df['Survived'] == 0]\n",
        "xsur = x_train[df['Survived'] == 1]\n",
        "ysur = y_train[df['Survived'] == 1]\n",
        "\n",
        "splitList = [[xdead, ydead], [xsur, ysur]]\n",
        "\n",
        "def SumDict(d):\n",
        "    sum = 0\n",
        "    for i in d:\n",
        "        sum+=d[i]\n",
        "\n",
        "    return sum\n",
        "\n",
        "def DescreteInfo(col, sur, splitList):\n",
        "    tempDict = {}\n",
        "\n",
        "    for i in splitList[sur][0][col]:\n",
        "        if i in tempDict:\n",
        "            tempDict[i]+=1\n",
        "        else:\n",
        "            tempDict[i] = 1\n",
        "\n",
        "    return tempDict\n",
        "\n",
        "def ContInfo(col, sur, splitList):\n",
        "    return [np.mean(splitList[sur][0][col]), np.std(splitList[sur][0][col])]\n",
        "           \n",
        "\n",
        "def DescreteProb(feature, value, sur, splitList):\n",
        "    d = DescreteInfo(feature, sur, splitList)\n",
        "    if value not in d:\n",
        "        d[value] = 1/len(x_train.index)\n",
        "    return d[value] / SumDict(d)\n",
        "\n",
        "def ContProb(feature, value, sur, splitList):\n",
        "    l = ContInfo(feature, sur, splitList)\n",
        "    return (1 / (np.sqrt(2 * np.pi) * l[1])) * np.exp(-((value - l[0])**2 / (2 * l[1]**2 )))\n",
        "\n",
        "print(ContProb(\"Age\", 32, 0, splitList))\n",
        "ContProb(\"Age\", 32, 1, splitList)"
      ],
      "metadata": {
        "colab": {
          "base_uri": "https://localhost:8080/"
        },
        "id": "xGG4WoQGEi3q",
        "outputId": "3e2e71d6-65b5-4319-9cc5-46f9f2803635"
      },
      "execution_count": null,
      "outputs": [
        {
          "output_type": "stream",
          "name": "stdout",
          "text": [
            "0.031462055224946\n"
          ]
        },
        {
          "output_type": "stream",
          "name": "stderr",
          "text": [
            "/usr/local/lib/python3.7/dist-packages/ipykernel_launcher.py:1: UserWarning: Boolean Series key will be reindexed to match DataFrame index.\n",
            "  \"\"\"Entry point for launching an IPython kernel.\n",
            "/usr/local/lib/python3.7/dist-packages/ipykernel_launcher.py:3: UserWarning: Boolean Series key will be reindexed to match DataFrame index.\n",
            "  This is separate from the ipykernel package so we can avoid doing imports until\n"
          ]
        },
        {
          "output_type": "execute_result",
          "data": {
            "text/plain": [
              "0.028388814183152287"
            ]
          },
          "metadata": {},
          "execution_count": 76
        }
      ]
    },
    {
      "cell_type": "code",
      "source": [
        "from sklearn.metrics import accuracy_score as acc\n",
        "\n",
        "topClassProb = []\n",
        "def Likelihood(l, sur, splitList):\n",
        "    return DescreteProb('Pclass', l[0], sur, splitList) * DescreteProb('Sex', l[1], sur, splitList) * ContProb('Age', l[2], sur, splitList) * ContProb('Fare', l[3], sur, splitList) * DescreteProb('Embarked', l[4], sur, splitList)\n",
        "\n",
        "def Predict(x_test, splitList):\n",
        "    l = []\n",
        "    indx = x_test.index\n",
        "    for i in range(len(indx)):\n",
        "        pr0 = Likelihood(x_test.loc[indx[i]], 0, splitList) * (len(splitList[0][0].index) / len(x_train.index))\n",
        "        pr1 = Likelihood(x_test.loc[indx[i]], 1, splitList) * (len(splitList[1][0].index) / len(x_train.index))\n",
        "        sum1 = pr1 + pr0\n",
        "        pr1 = pr1 / sum1\n",
        "        pr0 = pr0 / sum1\n",
        "\n",
        "        if(pr1 > pr0):\n",
        "            l.append(1)\n",
        "            topClassProb.append(pr1)\n",
        "        else:\n",
        "            l.append(0) \n",
        "            topClassProb.append(pr0)          \n",
        "\n",
        "\n",
        "    return l           \n",
        "\n",
        "\n",
        "acc(y_test, Predict(x_test, splitList)) * 100"
      ],
      "metadata": {
        "colab": {
          "base_uri": "https://localhost:8080/"
        },
        "id": "JhMnPcDUiMqh",
        "outputId": "96385bbb-ec95-460f-8d83-517e246107b7"
      },
      "execution_count": null,
      "outputs": [
        {
          "output_type": "execute_result",
          "data": {
            "text/plain": [
              "80.22388059701493"
            ]
          },
          "metadata": {},
          "execution_count": 77
        }
      ]
    },
    {
      "cell_type": "markdown",
      "source": [
        "4]"
      ],
      "metadata": {
        "id": "tSZmgm-HwT73"
      }
    },
    {
      "cell_type": "code",
      "source": [
        "splitsx = np.array_split(x_train, 5)\n",
        "splitsy = np.array_split(y_train, 5)\n",
        "r2_scores = []\n",
        "\n",
        "\n",
        "accList = []\n",
        "for i in range(5):\n",
        "    tempTrainx = pd.concat([splitsx[(i + 1)%5], splitsx[(i + 2)%5], splitsx[(i + 3)%5], splitsx[(i + 4)%5]], axis = 0)\n",
        "    tempTestx = splitsx[i]\n",
        "    tempTrainy = pd.concat([splitsy[(i + 1)%5], splitsy[(i + 2)%5], splitsy[(i + 3)%5], splitsy[(i + 4)%5]], axis = 0)\n",
        "    tempTesty = splitsy[i]\n",
        "\n",
        "    xdead = tempTrainx[tempTrainy == 0]\n",
        "    ydead = tempTrainy[tempTrainy == 0]\n",
        "    xsur = tempTrainx[tempTrainy == 1]\n",
        "    ysur = tempTrainy[tempTrainy == 1]\n",
        "    splitList = [[xdead, ydead], [xsur, ysur]]\n",
        "\n",
        "    accList.append(acc(y_test, Predict(x_test, splitList)))           \n",
        "      "
      ],
      "metadata": {
        "id": "pIJ7AXlrwU2B"
      },
      "execution_count": null,
      "outputs": []
    },
    {
      "cell_type": "markdown",
      "source": [
        "5]"
      ],
      "metadata": {
        "id": "ScgdhA8o-r-e"
      }
    },
    {
      "cell_type": "code",
      "source": [
        "print(accList)\n",
        "print(np.mean(accList))\n",
        "plt.plot(range(5), accList)\n",
        "plt.show()\n",
        "\n",
        "topClassProb\n"
      ],
      "metadata": {
        "colab": {
          "base_uri": "https://localhost:8080/",
          "height": 1000
        },
        "id": "kMV-Kh9vx-IH",
        "outputId": "935e6996-79d0-4de4-8745-0d7b5dd414b7"
      },
      "execution_count": null,
      "outputs": [
        {
          "output_type": "stream",
          "name": "stdout",
          "text": [
            "[0.7985074626865671, 0.7873134328358209, 0.8022388059701493, 0.8022388059701493, 0.8059701492537313]\n",
            "0.7992537313432836\n"
          ]
        },
        {
          "output_type": "display_data",
          "data": {
            "image/png": "[encoded data removed]",
            "text/plain": [
              "<Figure size 432x288 with 1 Axes>"
            ]
          },
          "metadata": {
            "needs_background": "light"
          }
        },
        {
          "output_type": "execute_result",
          "data": {
            "text/plain": [
              "[0.898510365451413,\n",
              " 0.9555980282325908,\n",
              " 0.9058072172738932,\n",
              " 0.999498573349399,\n",
              " 0.5860197065687446,\n",
              " 0.7967858979401706,\n",
              " 0.9992763389227926,\n",
              " 0.9997620169962562,\n",
              " 0.8011079419948045,\n",
              " 0.5904962704861177,\n",
              " 0.9540125347361358,\n",
              " 0.6122557959888222,\n",
              " 0.941940660376565,\n",
              " 0.7387748512740389,\n",
              " 0.9725237953927596,\n",
              " 0.5666807895277501,\n",
              " 0.9521843229320127,\n",
              " 0.8440370866715237,\n",
              " 0.9578180244978975,\n",
              " 0.8101723508591084,\n",
              " 0.8605396911428209,\n",
              " 0.9992765938513767,\n",
              " 0.9419375397029889,\n",
              " 0.795949671148013,\n",
              " 0.6101325546639225,\n",
              " 0.9985741801572502,\n",
              " 0.9569119832045094,\n",
              " 0.6082012901200208,\n",
              " 0.6497036747956582,\n",
              " 0.5350006788663147,\n",
              " 0.9008366523207718,\n",
              " 0.6215732709945913,\n",
              " 0.9554333560749179,\n",
              " 0.7870919026343159,\n",
              " 0.9554940850594321,\n",
              " 0.6203217729391355,\n",
              " 0.9581771652708485,\n",
              " 0.879321927076345,\n",
              " 0.8754517199026809,\n",
              " 0.880605808912,\n",
              " 0.7094655724192418,\n",
              " 0.8918279083816197,\n",
              " 0.9563128786911231,\n",
              " 0.9316289918627682,\n",
              " 0.9279641577918275,\n",
              " 0.9556651559548811,\n",
              " 0.9556651559548811,\n",
              " 0.9999999997173513,\n",
              " 0.8879386711166734,\n",
              " 0.5256069123446026,\n",
              " 0.7975934698816574,\n",
              " 0.5759539801524545,\n",
              " 0.7536299973783295,\n",
              " 0.9483957991304308,\n",
              " 0.6151467335357399,\n",
              " 0.694564246693421,\n",
              " 0.7811390600315451,\n",
              " 0.5290893407075167,\n",
              " 0.9339267804307612,\n",
              " 0.9415571288602227,\n",
              " 0.8869887155881331,\n",
              " 0.6329859580266877,\n",
              " 0.9642671975477092,\n",
              " 0.5846589574027272,\n",
              " 0.6292293254137264,\n",
              " 0.9435506624029167,\n",
              " 0.746582896215504,\n",
              " 0.8681767989962593,\n",
              " 0.7698681050201852,\n",
              " 0.788588539151701,\n",
              " 0.6532196609575434,\n",
              " 0.7402236818726383,\n",
              " 0.7188060363252173,\n",
              " 0.9556940028980305,\n",
              " 0.9527152863534073,\n",
              " 0.6285597471027609,\n",
              " 0.9999999919084754,\n",
              " 0.6354192226057397,\n",
              " 0.9572562433650088,\n",
              " 0.7499863691163945,\n",
              " 0.9412715124011225,\n",
              " 0.9354974997654282,\n",
              " 0.646382491666554,\n",
              " 0.9450478974625215,\n",
              " 0.8831272200544179,\n",
              " 0.9235934382620855,\n",
              " 0.999999935082711,\n",
              " 0.59875990687985,\n",
              " 0.6190170052902879,\n",
              " 0.9243364620621669,\n",
              " 0.7982112701990459,\n",
              " 0.9483957991304308,\n",
              " 0.7951950471455546,\n",
              " 0.9258281120165611,\n",
              " 0.5227352848315093,\n",
              " 0.8968101862900455,\n",
              " 0.6439864281776269,\n",
              " 0.934655483329294,\n",
              " 0.7873073885811818,\n",
              " 0.6734347608340855,\n",
              " 0.9226631461281912,\n",
              " 0.8762995523062012,\n",
              " 0.9483410838373686,\n",
              " 0.9473476766021722,\n",
              " 0.6345251439857935,\n",
              " 0.6455468582771147,\n",
              " 0.6312956534867205,\n",
              " 0.6051512595097478,\n",
              " 0.8710814258577156,\n",
              " 0.5681018201202158,\n",
              " 0.9576690013026495,\n",
              " 0.8464075843750355,\n",
              " 0.9278285859636398,\n",
              " 0.6325161410183022,\n",
              " 0.8885165654251909,\n",
              " 0.6311914628028936,\n",
              " 0.6199241996175527,\n",
              " 0.9999999494283007,\n",
              " 0.9584879590809741,\n",
              " 0.62335842902261,\n",
              " 0.9258054318463345,\n",
              " 0.9421082302342628,\n",
              " 0.949526085981735,\n",
              " 0.8084087797554417,\n",
              " 0.9573753984597574,\n",
              " 0.6008839712847059,\n",
              " 0.8968082821468425,\n",
              " 0.9533535358107392,\n",
              " 0.8735756041202537,\n",
              " 0.8836891993063885,\n",
              " 0.5344453450608109,\n",
              " 0.9503169819637888,\n",
              " 0.9531992090196459,\n",
              " 0.6011823438913744,\n",
              " 0.774910356803182,\n",
              " 0.9503169819637888,\n",
              " 0.941940660376565,\n",
              " 0.6496108957311796,\n",
              " 0.883837345633032,\n",
              " 0.8719323280594028,\n",
              " 0.8798446417918926,\n",
              " 0.9591561408668409,\n",
              " 0.9556940028980305,\n",
              " 0.5181936060748599,\n",
              " 0.6528447236782536,\n",
              " 0.6173048301215661,\n",
              " 0.8822193975997972,\n",
              " 0.6214731851260386,\n",
              " 0.9999999964813621,\n",
              " 0.9558019953557241,\n",
              " 0.5039621383032938,\n",
              " 0.6380441334811022,\n",
              " 0.6479521657510973,\n",
              " 0.9556420894608927,\n",
              " 0.8368147212899242,\n",
              " 0.876497533767776,\n",
              " 0.5706429027712496,\n",
              " 0.8663138449181296,\n",
              " 0.5641901460104614,\n",
              " 0.7447499073771131,\n",
              " 0.9556651559548811,\n",
              " 0.8831815031896494,\n",
              " 0.9331468850770415,\n",
              " 0.6445896891913505,\n",
              " 0.8713734971548754,\n",
              " 0.9533280413551537,\n",
              " 0.9565766846869866,\n",
              " 0.9511193196365326,\n",
              " 0.9526845960318565,\n",
              " 0.9464157266810395,\n",
              " 0.9567702177270864,\n",
              " 0.9504752301282401,\n",
              " 0.9555370513486249,\n",
              " 0.9563128786911231,\n",
              " 0.6604946891964735,\n",
              " 0.9556940028980305,\n",
              " 0.9939533538193102,\n",
              " 0.9519309060094135,\n",
              " 0.9484291207184066,\n",
              " 0.5860197065687446,\n",
              " 0.8827387862013568,\n",
              " 0.7231189681128996,\n",
              " 0.8811964444278508,\n",
              " 0.9501419763275991,\n",
              " 0.8097477067557577,\n",
              " 0.9511718721384519,\n",
              " 0.564333701368183,\n",
              " 0.8735756041202537,\n",
              " 0.9539968296636178,\n",
              " 0.6574331201223207,\n",
              " 0.605771801531317,\n",
              " 0.7348575370108549,\n",
              " 0.6491156349931546,\n",
              " 0.5641761157449884,\n",
              " 0.941940660376565,\n",
              " 0.591354950851084,\n",
              " 0.9556940028980305,\n",
              " 0.5314197737030357,\n",
              " 0.8094557573564257,\n",
              " 0.9550863973939142,\n",
              " 0.947390927091122,\n",
              " 0.5860138103625931,\n",
              " 0.843696221007318,\n",
              " 0.651447700421075,\n",
              " 0.9484291207184066,\n",
              " 0.7468860752134194,\n",
              " 0.6399792907396342,\n",
              " 0.9569949519639975,\n",
              " 0.5081968432845072,\n",
              " 0.9571216176951638,\n",
              " 0.9525035488110546,\n",
              " 0.591811501179174,\n",
              " 0.9178190272616847,\n",
              " 0.681100198784333,\n",
              " 0.8848987495995387,\n",
              " 0.9483957991304308,\n",
              " 0.7413524529700678,\n",
              " 0.9165237113024391,\n",
              " 0.6376866124059427,\n",
              " 0.9931220836242591,\n",
              " 0.9483691548735731,\n",
              " 0.9999999996997805,\n",
              " 0.503810451025488,\n",
              " 0.9551629084124744,\n",
              " 0.5841979603271577,\n",
              " 0.9567433388802099,\n",
              " 0.9509997225359245,\n",
              " 0.6134892374454676,\n",
              " 0.9508512852696508,\n",
              " 0.9476534634736852,\n",
              " 0.9575030124905587,\n",
              " 0.803363654210369,\n",
              " 0.6234770764824242,\n",
              " 0.6106157197657038,\n",
              " 0.7974763688839474,\n",
              " 0.9558038948323543,\n",
              " 1.0,\n",
              " 0.7570224771903623,\n",
              " 0.6135316190007702,\n",
              " 0.955549965311758,\n",
              " 0.8968101862900455,\n",
              " 0.9555798356252276,\n",
              " 0.9569173490859463,\n",
              " 0.8823220266127841,\n",
              " 0.9322976808138549,\n",
              " 0.8985080654239551,\n",
              " 0.5646127126311475,\n",
              " 0.9556651559548811,\n",
              " 0.9556940028980305,\n",
              " 0.6298360782434848,\n",
              " 0.9511402314330433,\n",
              " 0.9457018281748594,\n",
              " 0.9170098319081745,\n",
              " 0.8735756041202537,\n",
              " 0.5001697762660966,\n",
              " 0.5925145526858009,\n",
              " 0.5641901460104614,\n",
              " 0.9582877729777922,\n",
              " 0.9160916681938647,\n",
              " 0.9223456624452225,\n",
              " 0.9556651559548811,\n",
              " 0.8971110227212282,\n",
              " 0.9005447616064114,\n",
              " 0.8090561391256509,\n",
              " 0.9428054961318159,\n",
              " 0.8962537932154779,\n",
              " 0.5890434361866805,\n",
              " 0.6193523154370979,\n",
              " 0.9058789738275452,\n",
              " 0.9587130350502994,\n",
              " 0.9169175723128689,\n",
              " 0.9995810816884678,\n",
              " 0.5947538080797231,\n",
              " 0.8006155016168863,\n",
              " 0.9994064123434311,\n",
              " 0.9998081381202117,\n",
              " 0.8008778565696758,\n",
              " 0.5999877547570882,\n",
              " 0.9570586211805251,\n",
              " 0.5856613589149796,\n",
              " 0.9525422266305157,\n",
              " 0.7319842618681001,\n",
              " 0.9754305536811826,\n",
              " 0.5451965692793176,\n",
              " 0.9550929383706042,\n",
              " 0.8702386747615143,\n",
              " 0.9608853066263643,\n",
              " 0.8023293896114523,\n",
              " 0.8834267846655196,\n",
              " 0.9994115420768338,\n",
              " 0.9525393860057016,\n",
              " 0.7998001406348376,\n",
              " 0.5966095738007938,\n",
              " 0.9987885781745334,\n",
              " 0.9600329275722342,\n",
              " 0.5944313531719811,\n",
              " 0.6242699448931962,\n",
              " 0.5729247831844735,\n",
              " 0.9080741444248447,\n",
              " 0.6017972607528971,\n",
              " 0.9585452152211075,\n",
              " 0.7911216815152596,\n",
              " 0.9586066911059776,\n",
              " 0.6275519434724321,\n",
              " 0.9608210370019181,\n",
              " 0.9017138389107328,\n",
              " 0.8981029566286589,\n",
              " 0.8989482085371159,\n",
              " 0.7221112646916191,\n",
              " 0.8987796375634387,\n",
              " 0.9594913756096864,\n",
              " 0.934125389446355,\n",
              " 0.9349020753714163,\n",
              " 0.9587819748253248,\n",
              " 0.9587819748253248,\n",
              " 0.9999999998282766,\n",
              " 0.9090338563783789,\n",
              " 0.5193026681339316,\n",
              " 0.801402032822331,\n",
              " 0.572716456770992,\n",
              " 0.7509677322643941,\n",
              " 0.9509387574643782,\n",
              " 0.6218530791182092,\n",
              " 0.7390490408544803,\n",
              " 0.7692922443990209,\n",
              " 0.5052679294593448,\n",
              " 0.9350659792508834,\n",
              " 0.9524674493535416,\n",
              " 0.8935283968984955,\n",
              " 0.6238687689512239,\n",
              " 0.969052020249997,\n",
              " 0.5916732816906032,\n",
              " 0.6186511906509593,\n",
              " 0.9539734626185277,\n",
              " 0.7688786111896183,\n",
              " 0.8929219136257116,\n",
              " 0.7697900278643086,\n",
              " 0.807765885976192,\n",
              " 0.6284033515039332,\n",
              " 0.7405304440959187,\n",
              " 0.716151210382515,\n",
              " 0.9588116734864988,\n",
              " 0.9556730187921543,\n",
              " 0.6010354673483732,\n",
              " 0.9999999944754726,\n",
              " 0.6414657821299704,\n",
              " 0.960341645861034,\n",
              " 0.7919335882449864,\n",
              " 0.9522414578477585,\n",
              " 0.9360944907773261,\n",
              " 0.6203913227986119,\n",
              " 0.9471730008062967,\n",
              " 0.9041056244625435,\n",
              " 0.931903856516827,\n",
              " 0.9999999550666823,\n",
              " 0.5644561504435677,\n",
              " 0.5917117716778167,\n",
              " 0.9267766379322409,\n",
              " 0.8003289483699364,\n",
              " 0.9509387574643782,\n",
              " 0.8152154823234281,\n",
              " 0.9326380027424268,\n",
              " 0.5040074917138745,\n",
              " 0.9040291139267738,\n",
              " 0.6196334951318067,\n",
              " 0.9375673062980692,\n",
              " 0.7779218593846194,\n",
              " 0.6701213096570241,\n",
              " 0.9254224472301963,\n",
              " 0.8955352819370779,\n",
              " 0.9508813003341609,\n",
              " 0.9497677401997737,\n",
              " 0.6245770282621201,\n",
              " 0.637083021739355,\n",
              " 0.6050282279620075,\n",
              " 0.5954665815676373,\n",
              " 0.8947794692964447,\n",
              " 0.5914863530016898,\n",
              " 0.9598393450543992,\n",
              " 0.860336500661977,\n",
              " 0.9331856822171427,\n",
              " 0.6222969350162654,\n",
              " 0.8909067643057975,\n",
              " 0.6048890580880939,\n",
              " 0.6082796546507157,\n",
              " 0.9999999657295414,\n",
              " 0.9613422309605393,\n",
              " 0.5986013768920686,\n",
              " 0.9311546815019874,\n",
              " 0.9526953104842413,\n",
              " 0.9521849383027216,\n",
              " 0.8105260459275803,\n",
              " 0.9604883941314263,\n",
              " 0.591710530263777,\n",
              " 0.9040271575340062,\n",
              " 0.9563588173472143,\n",
              " 0.8965371316610613,\n",
              " 0.9027297026608546,\n",
              " 0.5533976940562081,\n",
              " 0.9530634534603909,\n",
              " 0.9561997983765144,\n",
              " 0.5861027754767756,\n",
              " 0.7603112849586565,\n",
              " 0.9530634534603909,\n",
              " 0.9525422266305157,\n",
              " 0.6392951435983023,\n",
              " 0.9051575088530694,\n",
              " 0.8947155620776858,\n",
              " 0.9022388742544014,\n",
              " 0.9582322214143904,\n",
              " 0.9588116734864988,\n",
              " 0.5346163161142471,\n",
              " 0.6258055928984478,\n",
              " 0.6049752354928508,\n",
              " 0.9044126096489838,\n",
              " 0.5950260360545948,\n",
              " 0.9999999977595653,\n",
              " 0.9589233169533947,\n",
              " 0.5048338131654041,\n",
              " 0.6285597560628284,\n",
              " 0.6384005447804407,\n",
              " 0.9587582599445849,\n",
              " 0.8246345671114013,\n",
              " 0.8990656617946883,\n",
              " 0.5825157400826205,\n",
              " 0.8817533972326985,\n",
              " 0.5868754093690068,\n",
              " 0.7750405455452024,\n",
              " 0.9587819748253248,\n",
              " 0.8893250038675524,\n",
              " 0.9413662028571572,\n",
              " 0.6358316935263622,\n",
              " 0.8759904309025529,\n",
              " 0.9563324761449794,\n",
              " 0.9583443115286471,\n",
              " 0.9539452430670595,\n",
              " 0.9556411617194065,\n",
              " 0.9487083905171777,\n",
              " 0.9585487060710545,\n",
              " 0.9549210163309624,\n",
              " 0.958650595344297,\n",
              " 0.9594913756096864,\n",
              " 0.679808970161357,\n",
              " 0.9588116734864988,\n",
              " 0.9946965710986155,\n",
              " 0.954827611308061,\n",
              " 0.9509738183984386,\n",
              " 0.5947538080797231,\n",
              " 0.9048241451918743,\n",
              " 0.769215886876782,\n",
              " 0.8872721390820759,\n",
              " 0.9528810000781527,\n",
              " 0.8114853425208689,\n",
              " 0.9540000279547383,\n",
              " 0.5870313986787984,\n",
              " 0.8965371316610613,\n",
              " 0.957042408767744,\n",
              " 0.6320988252749389,\n",
              " 0.5915011231331111,\n",
              " 0.7396223069561153,\n",
              " 0.6666910463930231,\n",
              " 0.5868601744811699,\n",
              " 0.9525422266305157,\n",
              " 0.6123287826250748,\n",
              " 0.9588116734864988,\n",
              " 0.5724242664545596,\n",
              " 0.8134163639470096,\n",
              " 0.9570740028791872,\n",
              " 0.9498133907175605,\n",
              " 0.5948155409097929,\n",
              " 0.8539187770948872,\n",
              " 0.669577733935955,\n",
              " 0.9509738183984386,\n",
              " 0.7897949646438195,\n",
              " 0.631142595067823,\n",
              " 0.960118289670579,\n",
              " 0.522796831277297,\n",
              " 0.9590413653477626,\n",
              " 0.9554541228951138,\n",
              " 0.5853526073100961,\n",
              " 0.9179380441794183,\n",
              " 0.7035705796984311,\n",
              " 0.9067510738658022,\n",
              " 0.9509387574643782,\n",
              " 0.7853212388129202,\n",
              " 0.913193143062823,\n",
              " 0.626089182684425,\n",
              " 0.9939613765188224,\n",
              " 0.9509107610152844,\n",
              " 0.9999999998157575,\n",
              " 0.5391788016822827,\n",
              " 0.9582641239985518,\n",
              " 0.56608722591201,\n",
              " 0.9599516859205046,\n",
              " 0.9538210388547775,\n",
              " 0.5893700850945408,\n",
              " 0.9538321366069538,\n",
              " 0.9502747597847557,\n",
              " 0.9606212088051486,\n",
              " 0.786491647496879,\n",
              " 0.6120997488257475,\n",
              " 0.597167889792237,\n",
              " 0.7922012076705598,\n",
              " 0.9589878155235065,\n",
              " 1.0,\n",
              " 0.7515803784764934,\n",
              " 0.5868258804495204,\n",
              " 0.958663805723064,\n",
              " 0.9040291139267738,\n",
              " 0.9617269397893646,\n",
              " 0.9600384357417467,\n",
              " 0.9049427307736502,\n",
              " 0.9403487946477641,\n",
              " 0.9059006061172661,\n",
              " 0.5873351760534905,\n",
              " 0.9587819748253248,\n",
              " 0.9588116734864988,\n",
              " 0.6193914473969914,\n",
              " 0.9539670264459652,\n",
              " 0.9479969563917352,\n",
              " 0.9196904312384641,\n",
              " 0.8965371316610613,\n",
              " 0.518111601145165,\n",
              " 0.5763636911410142,\n",
              " 0.5868754093690068,\n",
              " 0.9607717364896584,\n",
              " 0.9140857628138811,\n",
              " 0.9265952177149444,\n",
              " 0.9587819748253248,\n",
              " 0.904760682204153,\n",
              " 0.9077196777484517,\n",
              " 0.8107891790854674,\n",
              " 0.9533960041655081,\n",
              " 0.9035329924811512,\n",
              " 0.5718764869825543,\n",
              " 0.6259631254811248,\n",
              " 0.8749970643762605,\n",
              " 0.9483650869182236,\n",
              " 0.8921198421922205,\n",
              " 0.9997096707378276,\n",
              " 0.6373334749534492,\n",
              " 0.7655593118413676,\n",
              " 0.9995407683418464,\n",
              " 0.9998632837465049,\n",
              " 0.8537128540001689,\n",
              " 0.6414943151761519,\n",
              " 0.9462073372584058,\n",
              " 0.6091612829500564,\n",
              " 0.932347461751808,\n",
              " 0.7428137414018464,\n",
              " 0.9801453894461776,\n",
              " 0.5311171049195781,\n",
              " 0.9438970925053433,\n",
              " 0.8336842813789624,\n",
              " 0.9519244726715358,\n",
              " 0.7812920489610884,\n",
              " 0.8527230395879624,\n",
              " 0.9995631963831217,\n",
              " 0.9323438131209981,\n",
              " 0.7645688698576666,\n",
              " 0.5738256328898874,\n",
              " 0.9990865645257528,\n",
              " 0.95032566874808,\n",
              " 0.5718266959862299,\n",
              " 0.6604321443449392,\n",
              " 0.5600468824722744,\n",
              " 0.879226049528949,\n",
              " 0.6001280420721467,\n",
              " 0.948056535995821,\n",
              " 0.7541089298545407,\n",
              " 0.9482432103511648,\n",
              " 0.5600260189156205,\n",
              " 0.9543900035672614,\n",
              " 0.8732273952903788,\n",
              " 0.8685391022168887,\n",
              " 0.8917768441981111,\n",
              " 0.7294067212464207,\n",
              " 0.8661023763909429,\n",
              " 0.9491743559610686,\n",
              " 0.9194164868529715,\n",
              " 0.9417212662286574,\n",
              " 0.9484436299296382,\n",
              " 0.9484436299296382,\n",
              " 0.9999999999239,\n",
              " 0.8867683345981116,\n",
              " 0.5026958695046073,\n",
              " 0.7665164281685979,\n",
              " 0.6493880398283577,\n",
              " 0.7545567116022998,\n",
              " 0.939466949620947,\n",
              " 0.5524465612977171,\n",
              " 0.6660257489886589,\n",
              " 0.7943491645035946,\n",
              " 0.5068119565009097,\n",
              " 0.9235514773687559,\n",
              " 0.9317110699802045,\n",
              " 0.8599688099233925,\n",
              " 0.5994492569993596,\n",
              " 0.9689982415025177,\n",
              " 0.5187895140095254,\n",
              " 0.5949702890287373,\n",
              " 0.9347766755954037,\n",
              " 0.7550440791254993,\n",
              " 0.8605144053213256,\n",
              " 0.7690356197094892,\n",
              " 0.8161995642120454,\n",
              " 0.6641669562276841,\n",
              " 0.7208564245586051,\n",
              " 0.7825909712245417,\n",
              " 0.9484773362479286,\n",
              " 0.9445597112440258,\n",
              " 0.6365414930943384,\n",
              " 0.9999999977067224,\n",
              " 0.5857784008327356,\n",
              " 0.9510791755718688,\n",
              " 0.7247705339987948,\n",
              " 0.931353713295279,\n",
              " 0.9259321421201712,\n",
              " 0.6568141125139791,\n",
              " 0.935759666847769,\n",
              " 0.8864275717174497,\n",
              " 0.9392446856313638,\n",
              " 0.9999999753091884,\n",
              " 0.6302557133433033,\n",
              " 0.6232133257578124,\n",
              " 0.9492776221761009,\n",
              " 0.7681661112737088,\n",
              " 0.939466949620947,\n",
              " 0.7919482351665322,\n",
              " 0.9382653578833215,\n",
              " 0.5109294369529922,\n",
              " 0.8729916843436719,\n",
              " 0.65414550043295,\n",
              " 0.9226833285165698,\n",
              " 0.7961266574067157,\n",
              " 0.7418270034363091,\n",
              " 0.9083307067911208,\n",
              " 0.8874059684426566,\n",
              " 0.9394025097762589,\n",
              " 0.938288854926759,\n",
              " 0.601564660585485,\n",
              " 0.6176247913518569,\n",
              " 0.6400040757365891,\n",
              " 0.5809353417943908,\n",
              " 0.8634574915665064,\n",
              " 0.5322539312801517,\n",
              " 0.9555432761572887,\n",
              " 0.8708784761363688,\n",
              " 0.9143475862042098,\n",
              " 0.5994819034316388,\n",
              " 0.9190141394612911,\n",
              " 0.6399096118257085,\n",
              " 0.584108397152694,\n",
              " 0.9999999820823163,\n",
              " 0.9538698144831662,\n",
              " 0.6131779517594339,\n",
              " 0.9112297555470873,\n",
              " 0.9325429882552495,\n",
              " 0.9407619382189233,\n",
              " 0.78568421293211,\n",
              " 0.9510326388052843,\n",
              " 0.5891250884145299,\n",
              " 0.8729893657207246,\n",
              " 0.9453636454409692,\n",
              " 0.8673436032933068,\n",
              " 0.8917387871550088,\n",
              " 0.5043426549285988,\n",
              " 0.9416774307191027,\n",
              " 0.9451816363729068,\n",
              " 0.5645846676943598,\n",
              " 0.7928821371376217,\n",
              " 0.9416774307191027,\n",
              " 0.932347461751808,\n",
              " 0.6285092333518913,\n",
              " 0.8855681015179085,\n",
              " 0.8646075920846978,\n",
              " 0.8737529994920131,\n",
              " 0.9681048469827341,\n",
              " 0.9484773362479286,\n",
              " 0.5203728207182867,\n",
              " 0.6627759756909288,\n",
              " 0.5815649004112244,\n",
              " 0.8768023632828523,\n",
              " 0.6163813991044345,\n",
              " 0.9999999987749327,\n",
              " 0.9486032299539844,\n",
              " 0.5498451778677935,\n",
              " 0.6058417487350488,\n",
              " 0.6228375116827332,\n",
              " 0.9484166571861269,\n",
              " 0.8525461892131294,\n",
              " 0.8698279683654893,\n",
              " 0.6029739876809703,\n",
              " 0.8883956153576525,\n",
              " 0.528417195926828,\n",
              " 0.7740806513477358,\n",
              " 0.9484436299296382,\n",
              " 0.8553735459172442,\n",
              " 0.9396633620920556,\n",
              " 0.6149334921933629,\n",
              " 0.8419279669228811,\n",
              " 0.9453336233833788,\n",
              " 0.9555733932018662,\n",
              " 0.9426243712314682,\n",
              " 0.9445235919062743,\n",
              " 0.9372683021623006,\n",
              " 0.9557740963025374,\n",
              " 0.9613763467517714,\n",
              " 0.9482936244022268,\n",
              " 0.9491743559610686,\n",
              " 0.7074499379077116,\n",
              " 0.9484773362479286,\n",
              " 0.9959664242978162,\n",
              " 0.9435997323817754,\n",
              " 0.9395061503563226,\n",
              " 0.6373334749534492,\n",
              " 0.8776961525778074,\n",
              " 0.6949880023525871,\n",
              " 0.8529406836922591,\n",
              " 0.9414709689701685,\n",
              " 0.7940510036552894,\n",
              " 0.9426862838797516,\n",
              " 0.5285646276168986,\n",
              " 0.8673436032933068,\n",
              " 0.946188874118483,\n",
              " 0.668591559748247,\n",
              " 0.5692806844185893,\n",
              " 0.6941573557554523,\n",
              " 0.697813301882042,\n",
              " 0.528402781652339,\n",
              " 0.932347461751808,\n",
              " 0.5907394068079446,\n",
              " 0.9484773362479286,\n",
              " 0.5536277685970405,\n",
              " 0.7829950339672836,\n",
              " 0.953165077723811,\n",
              " 0.9383396925128121,\n",
              " 0.6372957842322894,\n",
              " 0.8814790370529026,\n",
              " 0.6995504615189683,\n",
              " 0.9395061503563226,\n",
              " 0.7214389624382443,\n",
              " 0.6083373348558775,\n",
              " 0.950421755774194,\n",
              " 0.5297532018681267,\n",
              " 0.9557353658192295,\n",
              " 0.9443099550538134,\n",
              " 0.5732664052266676,\n",
              " 0.9053438353396894,\n",
              " 0.7240338244923824,\n",
              " 0.8806814061668583,\n",
              " 0.939466949620947,\n",
              " 0.7161716397256898,\n",
              " 0.9076938481426855,\n",
              " 0.6231170624863898,\n",
              " 0.995400135058828,\n",
              " 0.9394355804398499,\n",
              " 0.9999999999192588,\n",
              " 0.530659284609314,\n",
              " 0.9477413352387368,\n",
              " 0.5477135098061233,\n",
              " 0.949790434671427,\n",
              " 0.9424831753343292,\n",
              " 0.6021630646046223,\n",
              " 0.9423777833616497,\n",
              " 0.9385384604802874,\n",
              " 0.9511789797854047,\n",
              " 0.8180216053923585,\n",
              " 0.5885842872283025,\n",
              " 0.5743192699178129,\n",
              " 0.7984776879295369,\n",
              " 0.9484532962402737,\n",
              " 1.0,\n",
              " 0.7608773227858707,\n",
              " 0.6092903839340376,\n",
              " 0.9483087675920895,\n",
              " 0.8729916843436719,\n",
              " 0.9607908344128254,\n",
              " 0.950331890865134,\n",
              " 0.8784581854825361,\n",
              " 0.9464124139848415,\n",
              " 0.8749792003817691,\n",
              " 0.5288508803106471,\n",
              " 0.9484436299296382,\n",
              " 0.9484773362479286,\n",
              " 0.5955733779250236,\n",
              " 0.9426490181119968,\n",
              " 0.9364500495294649,\n",
              " 0.9375938240456124,\n",
              " 0.8673436032933068,\n",
              " 0.5426900270073345,\n",
              " 0.5556929445572084,\n",
              " 0.528417195926828,\n",
              " 0.9551527957371118,\n",
              " 0.9057164664933219,\n",
              " 0.9361811471877222,\n",
              " 0.9484436299296382,\n",
              " 0.8730929459826888,\n",
              " 0.8792946379229534,\n",
              " 0.7883316107835658,\n",
              " 0.9333126149118174,\n",
              " 0.8717738628442531,\n",
              " 0.5524040362775395,\n",
              " 0.5571559166911663,\n",
              " 0.8834166838503039,\n",
              " 0.9486018092059554,\n",
              " 0.8795285724236445,\n",
              " 0.9985282690947734,\n",
              " 0.6252868856560381,\n",
              " 0.7690038570921602,\n",
              " 0.9975516120786142,\n",
              " 0.998966359670104,\n",
              " 0.7662326485494259,\n",
              " 0.6241312727397654,\n",
              " 0.9468136458694951,\n",
              " 0.6527721143068489,\n",
              " 0.9227821059341298,\n",
              " 0.765082578867038,\n",
              " 0.9691811061464418,\n",
              " 0.534431673581449,\n",
              " 0.9446827498576889,\n",
              " 0.8190738205262705,\n",
              " 0.9512284068421313,\n",
              " 0.8061141929917206,\n",
              " 0.8403647942126293,\n",
              " 0.997665137167728,\n",
              " 0.9227811856619591,\n",
              " 0.7681305734200631,\n",
              " 0.5712567957731949,\n",
              " 0.9966569910266474,\n",
              " 0.9500798383908197,\n",
              " 0.5709817579194606,\n",
              " 0.6945915002803198,\n",
              " 0.5596185681544739,\n",
              " 0.8878330964658812,\n",
              " 0.6513631093852343,\n",
              " 0.9481037364734303,\n",
              " 0.7591987712028408,\n",
              " 0.9485712311397507,\n",
              " 0.5857348699625582,\n",
              " 0.9527547304721773,\n",
              " 0.859719214924303,\n",
              " 0.8547560908442837,\n",
              " 0.8686889109138073,\n",
              " 0.6666009233811744,\n",
              " 0.878511125698115,\n",
              " 0.9484271464126066,\n",
              " 0.9216933835502119,\n",
              " 0.9208413684598802,\n",
              " 0.9486193919998852,\n",
              " 0.9486193919998852,\n",
              " 0.9999999697300614,\n",
              " 0.8698998973289143,\n",
              " 0.5584386621349283,\n",
              " 0.7698539431365585,\n",
              " 0.5832856193384551,\n",
              " 0.7753666010486493,\n",
              " 0.9410849386371741,\n",
              " 0.5802006071706376,\n",
              " 0.6915665246414348,\n",
              " 0.7755125792297937,\n",
              " 0.508753686280367,\n",
              " 0.9247116118773142,\n",
              " 0.9198319353311668,\n",
              " 0.8736874035735481,\n",
              " 0.587111689526536,\n",
              " 0.9589938689032572,\n",
              " 0.5518561600914923,\n",
              " 0.588404432313746,\n",
              " 0.9249188270976356,\n",
              " 0.7693672941138892,\n",
              " 0.8439015995050546,\n",
              " 0.7886137425481103,\n",
              " 0.8134730795070393,\n",
              " 0.6975840459309877,\n",
              " 0.7262324175884493,\n",
              " 0.6956075583052024,\n",
              " 0.9486263445136607,\n",
              " 0.945414843846465,\n",
              " 0.6745858967877829,\n",
              " 0.9999991235098794,\n",
              " 0.6042034243501777,\n",
              " 0.9507906944956704,\n",
              " 0.7174036790566438,\n",
              " 0.9193999122063595,\n",
              " 0.9276870909864424,\n",
              " 0.6917253663927704,\n",
              " 0.9378654995993316,\n",
              " 0.8648287515789473,\n",
              " 0.9194455617314089,\n",
              " 0.9999981467292279,\n",
              " 0.592022440796984,\n",
              " 0.6600946519908482,\n",
              " 0.8866829570534766,\n",
              " 0.7823097706786603,\n",
              " 0.9410849386371741,\n",
              " 0.7769039612445785,\n",
              " 0.9290743867726318,\n",
              " 0.5128613123652918,\n",
              " 0.8837358007018565,\n",
              " 0.6856495181453925,\n",
              " 0.9246036356474221,\n",
              " 0.779084119765701,\n",
              " 0.6592968915374189,\n",
              " 0.9130995617374391,\n",
              " 0.8620517070667186,\n",
              " 0.941071043810356,\n",
              " 0.9400672956230508,\n",
              " 0.5941738532325822,\n",
              " 0.6013108081626035,\n",
              " 0.6735132175797583,\n",
              " 0.564100509004579,\n",
              " 0.8473207575703186,\n",
              " 0.5152037156059105,\n",
              " 0.9528537376284302,\n",
              " 0.8589148345887005,\n",
              " 0.9195137802868134,\n",
              " 0.5939878425041192,\n",
              " 0.8165843425786316,\n",
              " 0.6736181638248574,\n",
              " 0.5766486282484308,\n",
              " 0.9999985581654666,\n",
              " 0.9524669595291417,\n",
              " 0.6640524057052433,\n",
              " 0.9172370020322562,\n",
              " 0.9228256604022025,\n",
              " 0.942080251493741,\n",
              " 0.7944898988553498,\n",
              " 0.9505227410443665,\n",
              " 0.5901415193729944,\n",
              " 0.8837352496633039,\n",
              " 0.9461269049412253,\n",
              " 0.8582979449366807,\n",
              " 0.8705229482697308,\n",
              " 0.5411910351957462,\n",
              " 0.9429670890173285,\n",
              " 0.9460829328486952,\n",
              " 0.5631600199605348,\n",
              " 0.7721745439268436,\n",
              " 0.9429670890173285,\n",
              " 0.9227821059341298,\n",
              " 0.6137604169277657,\n",
              " 0.864733591435902,\n",
              " 0.8511234385210905,\n",
              " 0.8594607416774078,\n",
              " 0.9585379224858928,\n",
              " 0.9486263445136607,\n",
              " 0.5545063426419631,\n",
              " 0.6977063213004762,\n",
              " 0.5785949422651142,\n",
              " 0.8621280382741427,\n",
              " 0.6645713694399686,\n",
              " 0.9999997838664394,\n",
              " 0.9486485565413392,\n",
              " 0.52975443998295,\n",
              " 0.5964235423436464,\n",
              " 0.6103725910778275,\n",
              " 0.9486135628571779,\n",
              " 0.855751515099026,\n",
              " 0.8566842232887815,\n",
              " 0.6029851117929502,\n",
              " 0.8613793852614756,\n",
              " 0.5136595548893519,\n",
              " 0.7559292875017015,\n",
              " 0.9486193919998852,\n",
              " 0.8700023650586398,\n",
              " 0.9326403148542862,\n",
              " 0.6016193164182777,\n",
              " 0.8589738551813101,\n",
              " 0.9461202277166404,\n",
              " 0.9524585161277742,\n",
              " 0.9438170093190557,\n",
              " 0.9454074817249303,\n",
              " 0.9390337366852273,\n",
              " 0.9525091553313645,\n",
              " 0.9495186551442569,\n",
              " 0.9485843219681702,\n",
              " 0.9484271464126066,\n",
              " 0.6837342583731582,\n",
              " 0.9486263445136607,\n",
              " 0.9902198474415723,\n",
              " 0.9446356107722956,\n",
              " 0.9410928473579844,\n",
              " 0.6252868856560381,\n",
              " 0.8635795830814867,\n",
              " 0.6869451642230914,\n",
              " 0.8692603709833896,\n",
              " 0.9429207158605801,\n",
              " 0.7880898369991005,\n",
              " 0.9438297957517777,\n",
              " 0.5136272858965264,\n",
              " 0.8582979449366807,\n",
              " 0.9468096582689332,\n",
              " 0.7017744213036677,\n",
              " 0.5672950797526348,\n",
              " 0.7121829955095565,\n",
              " 0.6745036656389795,\n",
              " 0.5136627812468105,\n",
              " 0.9227821059341298,\n",
              " 0.5638327081049038,\n",
              " ...]"
            ]
          },
          "metadata": {},
          "execution_count": 79
        }
      ]
    },
    {
      "cell_type": "markdown",
      "source": [
        "6]"
      ],
      "metadata": {
        "id": "Ta3aPYVaINN4"
      }
    },
    {
      "cell_type": "code",
      "source": [
        "from sklearn.naive_bayes import GaussianNB\n",
        "from sklearn import metrics\n",
        "\n",
        "gnb = GaussianNB()\n",
        "gnb.fit(x_train,y_train)\n",
        "y_pred = gnb.predict(x_test)\n",
        "\n",
        "print(\"Accuracy for Inbuilt model:\", metrics.accuracy_score(y_test, y_pred)*100 , \"%\")\n",
        "print(\"Accuracy for from-scratch model\", acc(y_test, Predict(x_test, splitList)) * 100,\"%\")"
      ],
      "metadata": {
        "colab": {
          "base_uri": "https://localhost:8080/"
        },
        "id": "gUODu4mKIOEQ",
        "outputId": "48c75c06-ad1e-4c8f-bf7a-39b41a1d4b8c"
      },
      "execution_count": null,
      "outputs": [
        {
          "output_type": "stream",
          "name": "stdout",
          "text": [
            "Accuracy for Inbuilt model: 78.35820895522389 %\n",
            "Accuracy for from-scratch model 80.59701492537313 %\n"
          ]
        }
      ]
    },
    {
      "cell_type": "markdown",
      "source": [
        "7]"
      ],
      "metadata": {
        "id": "cZin_1g3Nfjc"
      }
    },
    {
      "cell_type": "code",
      "source": [
        "from sklearn.tree import DecisionTreeRegressor\n",
        "\n",
        "splitsx = np.array_split(x_train, 5)\n",
        "splitsy = np.array_split(y_train, 5)\n",
        "r2_scores = []\n",
        "\n",
        "\n",
        "accList = []\n",
        "for i in range(5):\n",
        "    tempacc = []\n",
        "    tempTrainx = pd.concat([splitsx[(i + 1)%5], splitsx[(i + 2)%5], splitsx[(i + 3)%5], splitsx[(i + 4)%5]], axis = 0)\n",
        "    tempTestx = splitsx[i]\n",
        "    tempTrainy = pd.concat([splitsy[(i + 1)%5], splitsy[(i + 2)%5], splitsy[(i + 3)%5], splitsy[(i + 4)%5]], axis = 0)\n",
        "    tempTesty = splitsy[i]\n",
        "\n",
        "    model = DecisionTreeRegressor()\n",
        "    model.fit(tempTrainx, tempTrainy)\n",
        "    accList.append(acc( tempTesty, model.predict(tempTestx).round()))\n",
        "\n",
        "print(\"Accuracy for KFold model:\", (np.mean(accList) * 100))\n",
        "print(\"Accuracy for from-scratch model:\", acc(y_test, Predict(x_test, splitList)) * 100,\"%\")"
      ],
      "metadata": {
        "colab": {
          "base_uri": "https://localhost:8080/"
        },
        "id": "5ObMJ50TkGdl",
        "outputId": "f317e96f-6c47-4215-84a9-591ba3de1eff"
      },
      "execution_count": null,
      "outputs": [
        {
          "output_type": "stream",
          "name": "stdout",
          "text": [
            "Accuracy for KFold model: 76.56258064516129\n",
            "Accuracy for from-scratch model: 80.59701492537313 %\n"
          ]
        }
      ]
    },
    {
      "cell_type": "markdown",
      "source": [
        "#Q2]"
      ],
      "metadata": {
        "id": "hd697oK2C1Pj"
      }
    },
    {
      "cell_type": "code",
      "source": [
        "import numpy as np\n",
        "import pandas as pd\n",
        "from matplotlib import pyplot as plt\n",
        "import seaborn as sns\n",
        "from collections import Counter\n"
      ],
      "metadata": {
        "id": "u0x3SDR5C4lo"
      },
      "execution_count": null,
      "outputs": []
    },
    {
      "cell_type": "markdown",
      "source": [
        "1]"
      ],
      "metadata": {
        "id": "uNxSpPARC3uZ"
      }
    },
    {
      "cell_type": "code",
      "source": [
        "filePath = \"/content/dataset.csv\"\n",
        "df = pd.read_csv(filePath)\n",
        "df\n",
        "\n",
        "for i in df.columns:\n",
        "    if(i == \"Y\"):\n",
        "        continue\n",
        "    l = df[i].tolist()\n",
        "    fig, ax = plt.subplots(1, 1)\n",
        "    ax.hist(l)    \n",
        "    ax.set_xlabel(i)\n",
        "    ax.set_ylabel('Value')\n",
        "    plt.show()\n"
      ],
      "metadata": {
        "colab": {
          "base_uri": "https://localhost:8080/",
          "height": 1000
        },
        "id": "-Ndcp-vUDvrk",
        "outputId": "dc3c9877-8b6b-45bf-85fa-032530d20d49"
      },
      "execution_count": null,
      "outputs": [
        {
          "output_type": "display_data",
          "data": {
            "image/png": "[encoded data removed]",
            "text/plain": [
              "<Figure size 432x288 with 1 Axes>"
            ]
          },
          "metadata": {
            "needs_background": "light"
          }
        },
        {
          "output_type": "display_data",
          "data": {
            "image/png": "[encoded data removed]",
            "text/plain": [
              "<Figure size 432x288 with 1 Axes>"
            ]
          },
          "metadata": {
            "needs_background": "light"
          }
        },
        {
          "output_type": "display_data",
          "data": {
            "image/png": "[encoded data removed]",
            "text/plain": [
              "<Figure size 432x288 with 1 Axes>"
            ]
          },
          "metadata": {
            "needs_background": "light"
          }
        },
        {
          "output_type": "display_data",
          "data": {
            "image/png": "[encoded data removed]",
            "text/plain": [
              "<Figure size 432x288 with 1 Axes>"
            ]
          },
          "metadata": {
            "needs_background": "light"
          }
        },
        {
          "output_type": "display_data",
          "data": {
            "image/png": "[encoded data removed]",
            "text/plain": [
              "<Figure size 432x288 with 1 Axes>"
            ]
          },
          "metadata": {
            "needs_background": "light"
          }
        },
        {
          "output_type": "display_data",
          "data": {
            "image/png": "[encoded data removed]",
            "text/plain": [
              "<Figure size 432x288 with 1 Axes>"
            ]
          },
          "metadata": {
            "needs_background": "light"
          }
        },
        {
          "output_type": "display_data",
          "data": {
            "image/png": "[encoded data removed]",
            "text/plain": [
              "<Figure size 432x288 with 1 Axes>"
            ]
          },
          "metadata": {
            "needs_background": "light"
          }
        }
      ]
    },
    {
      "cell_type": "markdown",
      "source": [
        "2]"
      ],
      "metadata": {
        "id": "13zDovjtMW2j"
      }
    },
    {
      "cell_type": "code",
      "source": [
        "count1 = count2 = count3 = 0\n",
        "for i in df.Y:\n",
        "    if(i == 1):\n",
        "        count1+=1\n",
        "    elif(i == 2):\n",
        "        count2+=1\n",
        "    else:\n",
        "        count3+=1\n",
        "\n",
        "print(\"Prior Probablility of Case 1:\", count1/len(df.Y))\n",
        "print(\"Prior Probablility of Case 2:\", count2/len(df.Y))\n",
        "print(\"Prior Probablility of Case 3:\", count3/len(df.Y))"
      ],
      "metadata": {
        "colab": {
          "base_uri": "https://localhost:8080/"
        },
        "id": "ox4CQ1HcMXwY",
        "outputId": "0fd33036-eefe-4398-e743-99dec7ac0b73"
      },
      "execution_count": null,
      "outputs": [
        {
          "output_type": "stream",
          "name": "stdout",
          "text": [
            "Prior Probablility of Case 1: 0.3333333333333333\n",
            "Prior Probablility of Case 2: 0.3333333333333333\n",
            "Prior Probablility of Case 3: 0.3333333333333333\n"
          ]
        }
      ]
    },
    {
      "cell_type": "markdown",
      "source": [
        "3]"
      ],
      "metadata": {
        "id": "2utnHn28Njut"
      }
    },
    {
      "cell_type": "code",
      "source": [
        "def Discretize(col, n_bin):\n",
        "    temp = df[col].tolist()\n",
        "    minTemp = min(temp)\n",
        "    dif = (max(temp) - minTemp) / n_bin\n",
        "\n",
        "    for i in range(len(df[col])):\n",
        "        for j in range(1 , n_bin+1):\n",
        "            if(df[col][i] <= minTemp + j*dif):\n",
        "                df[col][i] = j-1\n",
        "                break\n",
        "\n",
        "for i in df.columns:\n",
        "    if(i == 'Y'):\n",
        "        continue\n",
        "    Discretize(i, 10)\n",
        "\n",
        "df = df.astype('int32')\n",
        "df\n"
      ],
      "metadata": {
        "colab": {
          "base_uri": "https://localhost:8080/",
          "height": 510
        },
        "id": "LrxgvNkpNkp7",
        "outputId": "eff78b63-f8fc-44be-f8dc-58917f7f063d"
      },
      "execution_count": null,
      "outputs": [
        {
          "output_type": "stream",
          "name": "stderr",
          "text": [
            "/usr/local/lib/python3.7/dist-packages/ipykernel_launcher.py:9: SettingWithCopyWarning: \n",
            "A value is trying to be set on a copy of a slice from a DataFrame\n",
            "\n",
            "See the caveats in the documentation: https://pandas.pydata.org/pandas-docs/stable/user_guide/indexing.html#returning-a-view-versus-a-copy\n",
            "  if __name__ == '__main__':\n"
          ]
        },
        {
          "output_type": "execute_result",
          "data": {
            "text/html": [
              "\n",
              "  <div id=\"df-63452b66-4f04-4075-9361-9950c9248781\">\n",
              "    <div class=\"colab-df-container\">\n",
              "      <div>\n",
              "<style scoped>\n",
              "    .dataframe tbody tr th:only-of-type {\n",
              "        vertical-align: middle;\n",
              "    }\n",
              "\n",
              "    .dataframe tbody tr th {\n",
              "        vertical-align: top;\n",
              "    }\n",
              "\n",
              "    .dataframe thead th {\n",
              "        text-align: right;\n",
              "    }\n",
              "</style>\n",
              "<table border=\"1\" class=\"dataframe\">\n",
              "  <thead>\n",
              "    <tr style=\"text-align: right;\">\n",
              "      <th></th>\n",
              "      <th>X0</th>\n",
              "      <th>X1</th>\n",
              "      <th>X2</th>\n",
              "      <th>X3</th>\n",
              "      <th>X4</th>\n",
              "      <th>X5</th>\n",
              "      <th>X6</th>\n",
              "      <th>Y</th>\n",
              "    </tr>\n",
              "  </thead>\n",
              "  <tbody>\n",
              "    <tr>\n",
              "      <th>0</th>\n",
              "      <td>4</td>\n",
              "      <td>5</td>\n",
              "      <td>5</td>\n",
              "      <td>4</td>\n",
              "      <td>4</td>\n",
              "      <td>1</td>\n",
              "      <td>3</td>\n",
              "      <td>1</td>\n",
              "    </tr>\n",
              "    <tr>\n",
              "      <th>1</th>\n",
              "      <td>4</td>\n",
              "      <td>4</td>\n",
              "      <td>6</td>\n",
              "      <td>3</td>\n",
              "      <td>5</td>\n",
              "      <td>0</td>\n",
              "      <td>2</td>\n",
              "      <td>1</td>\n",
              "    </tr>\n",
              "    <tr>\n",
              "      <th>2</th>\n",
              "      <td>3</td>\n",
              "      <td>3</td>\n",
              "      <td>8</td>\n",
              "      <td>2</td>\n",
              "      <td>5</td>\n",
              "      <td>2</td>\n",
              "      <td>1</td>\n",
              "      <td>1</td>\n",
              "    </tr>\n",
              "    <tr>\n",
              "      <th>3</th>\n",
              "      <td>3</td>\n",
              "      <td>3</td>\n",
              "      <td>7</td>\n",
              "      <td>2</td>\n",
              "      <td>5</td>\n",
              "      <td>1</td>\n",
              "      <td>1</td>\n",
              "      <td>1</td>\n",
              "    </tr>\n",
              "    <tr>\n",
              "      <th>4</th>\n",
              "      <td>5</td>\n",
              "      <td>5</td>\n",
              "      <td>8</td>\n",
              "      <td>4</td>\n",
              "      <td>6</td>\n",
              "      <td>0</td>\n",
              "      <td>3</td>\n",
              "      <td>1</td>\n",
              "    </tr>\n",
              "    <tr>\n",
              "      <th>...</th>\n",
              "      <td>...</td>\n",
              "      <td>...</td>\n",
              "      <td>...</td>\n",
              "      <td>...</td>\n",
              "      <td>...</td>\n",
              "      <td>...</td>\n",
              "      <td>...</td>\n",
              "      <td>...</td>\n",
              "    </tr>\n",
              "    <tr>\n",
              "      <th>205</th>\n",
              "      <td>1</td>\n",
              "      <td>1</td>\n",
              "      <td>6</td>\n",
              "      <td>1</td>\n",
              "      <td>2</td>\n",
              "      <td>3</td>\n",
              "      <td>1</td>\n",
              "      <td>3</td>\n",
              "    </tr>\n",
              "    <tr>\n",
              "      <th>206</th>\n",
              "      <td>0</td>\n",
              "      <td>0</td>\n",
              "      <td>3</td>\n",
              "      <td>1</td>\n",
              "      <td>1</td>\n",
              "      <td>4</td>\n",
              "      <td>2</td>\n",
              "      <td>3</td>\n",
              "    </tr>\n",
              "    <tr>\n",
              "      <th>207</th>\n",
              "      <td>2</td>\n",
              "      <td>2</td>\n",
              "      <td>7</td>\n",
              "      <td>1</td>\n",
              "      <td>4</td>\n",
              "      <td>9</td>\n",
              "      <td>2</td>\n",
              "      <td>3</td>\n",
              "    </tr>\n",
              "    <tr>\n",
              "      <th>208</th>\n",
              "      <td>1</td>\n",
              "      <td>1</td>\n",
              "      <td>3</td>\n",
              "      <td>1</td>\n",
              "      <td>1</td>\n",
              "      <td>3</td>\n",
              "      <td>2</td>\n",
              "      <td>3</td>\n",
              "    </tr>\n",
              "    <tr>\n",
              "      <th>209</th>\n",
              "      <td>1</td>\n",
              "      <td>1</td>\n",
              "      <td>5</td>\n",
              "      <td>1</td>\n",
              "      <td>2</td>\n",
              "      <td>6</td>\n",
              "      <td>2</td>\n",
              "      <td>3</td>\n",
              "    </tr>\n",
              "  </tbody>\n",
              "</table>\n",
              "<p>210 rows × 8 columns</p>\n",
              "</div>\n",
              "      <button class=\"colab-df-convert\" onclick=\"convertToInteractive('df-63452b66-4f04-4075-9361-9950c9248781')\"\n",
              "              title=\"Convert this dataframe to an interactive table.\"\n",
              "              style=\"display:none;\">\n",
              "        \n",
              "  <svg xmlns=\"http://www.w3.org/2000/svg\" height=\"24px\"viewBox=\"0 0 24 24\"\n",
              "       width=\"24px\">\n",
              "    <path d=\"M0 0h24v24H0V0z\" fill=\"none\"/>\n",
              "    <path d=\"M18.56 5.44l.94 2.06.94-2.06 2.06-.94-2.06-.94-.94-2.06-.94 2.06-2.06.94zm-11 1L8.5 8.5l.94-2.06 2.06-.94-2.06-.94L8.5 2.5l-.94 2.06-2.06.94zm10 10l.94 2.06.94-2.06 2.06-.94-2.06-.94-.94-2.06-.94 2.06-2.06.94z\"/><path d=\"M17.41 7.96l-1.37-1.37c-.4-.4-.92-.59-1.43-.59-.52 0-1.04.2-1.43.59L10.3 9.45l-7.72 7.72c-.78.78-.78 2.05 0 2.83L4 21.41c.39.39.9.59 1.41.59.51 0 1.02-.2 1.41-.59l7.78-7.78 2.81-2.81c.8-.78.8-2.07 0-2.86zM5.41 20L4 18.59l7.72-7.72 1.47 1.35L5.41 20z\"/>\n",
              "  </svg>\n",
              "      </button>\n",
              "      \n",
              "  <style>\n",
              "    .colab-df-container {\n",
              "      display:flex;\n",
              "      flex-wrap:wrap;\n",
              "      gap: 12px;\n",
              "    }\n",
              "\n",
              "    .colab-df-convert {\n",
              "      background-color: #E8F0FE;\n",
              "      border: none;\n",
              "      border-radius: 50%;\n",
              "      cursor: pointer;\n",
              "      display: none;\n",
              "      fill: #1967D2;\n",
              "      height: 32px;\n",
              "      padding: 0 0 0 0;\n",
              "      width: 32px;\n",
              "    }\n",
              "\n",
              "    .colab-df-convert:hover {\n",
              "      background-color: #E2EBFA;\n",
              "      box-shadow: 0px 1px 2px rgba(60, 64, 67, 0.3), 0px 1px 3px 1px rgba(60, 64, 67, 0.15);\n",
              "      fill: #174EA6;\n",
              "    }\n",
              "\n",
              "    [theme=dark] .colab-df-convert {\n",
              "      background-color: #3B4455;\n",
              "      fill: #D2E3FC;\n",
              "    }\n",
              "\n",
              "    [theme=dark] .colab-df-convert:hover {\n",
              "      background-color: #434B5C;\n",
              "      box-shadow: 0px 1px 3px 1px rgba(0, 0, 0, 0.15);\n",
              "      filter: drop-shadow(0px 1px 2px rgba(0, 0, 0, 0.3));\n",
              "      fill: #FFFFFF;\n",
              "    }\n",
              "  </style>\n",
              "\n",
              "      <script>\n",
              "        const buttonEl =\n",
              "          document.querySelector('#df-63452b66-4f04-4075-9361-9950c9248781 button.colab-df-convert');\n",
              "        buttonEl.style.display =\n",
              "          google.colab.kernel.accessAllowed ? 'block' : 'none';\n",
              "\n",
              "        async function convertToInteractive(key) {\n",
              "          const element = document.querySelector('#df-63452b66-4f04-4075-9361-9950c9248781');\n",
              "          const dataTable =\n",
              "            await google.colab.kernel.invokeFunction('convertToInteractive',\n",
              "                                                     [key], {});\n",
              "          if (!dataTable) return;\n",
              "\n",
              "          const docLinkHtml = 'Like what you see? Visit the ' +\n",
              "            '<a target=\"_blank\" href=https://colab.research.google.com/notebooks/data_table.ipynb>data table notebook</a>'\n",
              "            + ' to learn more about interactive tables.';\n",
              "          element.innerHTML = '';\n",
              "          dataTable['output_type'] = 'display_data';\n",
              "          await google.colab.output.renderOutput(dataTable, element);\n",
              "          const docLink = document.createElement('div');\n",
              "          docLink.innerHTML = docLinkHtml;\n",
              "          element.appendChild(docLink);\n",
              "        }\n",
              "      </script>\n",
              "    </div>\n",
              "  </div>\n",
              "  "
            ],
            "text/plain": [
              "     X0  X1  X2  X3  X4  X5  X6  Y\n",
              "0     4   5   5   4   4   1   3  1\n",
              "1     4   4   6   3   5   0   2  1\n",
              "2     3   3   8   2   5   2   1  1\n",
              "3     3   3   7   2   5   1   1  1\n",
              "4     5   5   8   4   6   0   3  1\n",
              "..   ..  ..  ..  ..  ..  ..  .. ..\n",
              "205   1   1   6   1   2   3   1  3\n",
              "206   0   0   3   1   1   4   2  3\n",
              "207   2   2   7   1   4   9   2  3\n",
              "208   1   1   3   1   1   3   2  3\n",
              "209   1   1   5   1   2   6   2  3\n",
              "\n",
              "[210 rows x 8 columns]"
            ]
          },
          "metadata": {},
          "execution_count": 85
        }
      ]
    },
    {
      "cell_type": "markdown",
      "source": [
        "4]"
      ],
      "metadata": {
        "id": "lYW1MVeqz4pS"
      }
    },
    {
      "cell_type": "code",
      "source": [
        "listdf = []\n",
        "listdf.append(df[df.Y == 1])\n",
        "listdf.append(df[df.Y == 2])\n",
        "listdf.append(df[df.Y == 3])\n",
        "\n",
        "def SumDict(d):\n",
        "    sum = 0\n",
        "    for i in d:\n",
        "        sum+=d[i]\n",
        "\n",
        "    return sum\n",
        "\n",
        "def GetInfo(df, col):\n",
        "    d = {}\n",
        "    for i in df[col]:\n",
        "        if i in d:\n",
        "            d[i]+=1\n",
        "        else:\n",
        "            d[i] = 1\n",
        "    return d\n",
        "\n",
        "def GetLH(df, Class, col):\n",
        "    tempdf = listdf[Class - 1]\n",
        "    d = GetInfo(tempdf, col)\n",
        "    sum = SumDict(d)\n",
        "    for i in d:\n",
        "        d[i] = d[i] / sum\n",
        "    return d\n",
        "\n",
        "\n",
        "def PrintLH(df):\n",
        "    for i in range(1,4):\n",
        "        print()\n",
        "        print(\"Class\", i)\n",
        "        for j in df.columns:\n",
        "            if(j == 'Y'):\n",
        "                continue\n",
        "            print(\"Column\", j)\n",
        "            print(GetLH(df, i, j))\n",
        "\n",
        "PrintLH(df)\n",
        "data = df.to_numpy()\n",
        "\n"
      ],
      "metadata": {
        "colab": {
          "base_uri": "https://localhost:8080/"
        },
        "id": "UrF6cvd6z8mx",
        "outputId": "01146586-14d5-48bc-8add-f8b401cada15"
      },
      "execution_count": null,
      "outputs": [
        {
          "output_type": "stream",
          "name": "stdout",
          "text": [
            "\n",
            "Class 1\n",
            "Column X0\n",
            "{4: 0.24285714285714285, 3: 0.4, 5: 0.08571428571428572, 2: 0.18571428571428572, 1: 0.04285714285714286, 6: 0.014285714285714285, 0: 0.02857142857142857}\n",
            "Column X1\n",
            "{5: 0.15714285714285714, 4: 0.3142857142857143, 3: 0.2571428571428571, 6: 0.02857142857142857, 2: 0.18571428571428572, 1: 0.02857142857142857, 0: 0.02857142857142857}\n",
            "Column X2\n",
            "{5: 0.2571428571428571, 6: 0.2571428571428571, 8: 0.12857142857142856, 7: 0.18571428571428572, 9: 0.04285714285714286, 4: 0.1, 2: 0.014285714285714285, 3: 0.014285714285714285}\n",
            "Column X3\n",
            "{4: 0.2571428571428571, 3: 0.2714285714285714, 2: 0.22857142857142856, 6: 0.014285714285714285, 5: 0.08571428571428572, 1: 0.1, 0: 0.04285714285714286}\n",
            "Column X4\n",
            "{4: 0.2571428571428571, 5: 0.2571428571428571, 6: 0.07142857142857142, 3: 0.24285714285714285, 2: 0.11428571428571428, 7: 0.014285714285714285, 1: 0.04285714285714286}\n",
            "Column X5\n",
            "{1: 0.2571428571428571, 0: 0.18571428571428572, 2: 0.24285714285714285, 3: 0.14285714285714285, 4: 0.11428571428571428, 5: 0.02857142857142857, 7: 0.014285714285714285, 6: 0.014285714285714285}\n",
            "Column X6\n",
            "{3: 0.3142857142857143, 2: 0.2714285714285714, 1: 0.17142857142857143, 6: 0.014285714285714285, 4: 0.14285714285714285, 0: 0.08571428571428572}\n",
            "\n",
            "Class 2\n",
            "Column X0\n",
            "{6: 0.12857142857142856, 5: 0.14285714285714285, 8: 0.18571428571428572, 9: 0.1, 7: 0.37142857142857144, 4: 0.07142857142857142}\n",
            "Column X1\n",
            "{7: 0.3, 6: 0.15714285714285714, 9: 0.14285714285714285, 8: 0.2857142857142857, 5: 0.1, 4: 0.014285714285714285}\n",
            "Column X2\n",
            "{5: 0.17142857142857143, 4: 0.08571428571428572, 6: 0.2571428571428571, 9: 0.05714285714285714, 7: 0.18571428571428572, 8: 0.22857142857142856, 3: 0.014285714285714285}\n",
            "Column X3\n",
            "{7: 0.2857142857142857, 6: 0.2571428571428571, 5: 0.14285714285714285, 9: 0.11428571428571428, 8: 0.12857142857142856, 4: 0.04285714285714286, 2: 0.014285714285714285, 3: 0.014285714285714285}\n",
            "Column X4\n",
            "{6: 0.21428571428571427, 9: 0.1, 5: 0.11428571428571428, 8: 0.35714285714285715, 7: 0.17142857142857143, 4: 0.04285714285714286}\n",
            "Column X5\n",
            "{4: 0.17142857142857143, 5: 0.14285714285714285, 2: 0.18571428571428572, 3: 0.2571428571428571, 6: 0.05714285714285714, 0: 0.014285714285714285, 1: 0.15714285714285714, 7: 0.014285714285714285}\n",
            "Column X6\n",
            "{7: 0.24285714285714285, 6: 0.34285714285714286, 9: 0.1, 8: 0.24285714285714285, 5: 0.04285714285714286, 3: 0.014285714285714285, 4: 0.014285714285714285}\n",
            "\n",
            "Class 3\n",
            "Column X0\n",
            "{2: 0.12857142857142856, 1: 0.44285714285714284, 0: 0.42857142857142855}\n",
            "Column X1\n",
            "{3: 0.04285714285714286, 1: 0.42857142857142855, 2: 0.35714285714285715, 0: 0.17142857142857143}\n",
            "Column X2\n",
            "{3: 0.21428571428571427, 4: 0.2, 5: 0.1, 1: 0.12857142857142856, 0: 0.08571428571428572, 2: 0.12857142857142856, 6: 0.07142857142857142, 7: 0.04285714285714286, 8: 0.02857142857142857}\n",
            "Column X3\n",
            "{3: 0.07142857142857142, 2: 0.32857142857142857, 1: 0.4857142857142857, 0: 0.11428571428571428}\n",
            "Column X4\n",
            "{2: 0.21428571428571427, 3: 0.11428571428571428, 1: 0.32857142857142857, 0: 0.32857142857142857, 4: 0.014285714285714285}\n",
            "Column X5\n",
            "{5: 0.2714285714285714, 8: 0.04285714285714286, 6: 0.15714285714285714, 4: 0.21428571428571427, 7: 0.07142857142857142, 1: 0.05714285714285714, 3: 0.14285714285714285, 2: 0.014285714285714285, 9: 0.02857142857142857}\n",
            "Column X6\n",
            "{4: 0.08571428571428572, 3: 0.4, 2: 0.4142857142857143, 1: 0.1}\n"
          ]
        }
      ]
    },
    {
      "cell_type": "markdown",
      "source": [
        "5]"
      ],
      "metadata": {
        "id": "cPa1CW295j_X"
      }
    },
    {
      "cell_type": "code",
      "source": [
        "from collections import OrderedDict\n",
        "\n",
        "def PlotLH(df):\n",
        "    for i in range(1,4):\n",
        "        print()\n",
        "        print(\"Class\", i)\n",
        "        for j in df.columns:\n",
        "            if(j == 'Y'):\n",
        "                continue\n",
        "            print(\"Column\", j, \"Class\", i)\n",
        "            d = (GetLH(df, i, j))\n",
        "            d = OrderedDict(sorted(d.items()))\n",
        "            plt.figure(figsize=(3, 3))\n",
        "            plt.plot(list(d.keys()), list(d.values()))\n",
        "            plt.show()\n",
        "\n",
        "PlotLH(df)"
      ],
      "metadata": {
        "colab": {
          "base_uri": "https://localhost:8080/",
          "height": 1000
        },
        "id": "wHAMsJhV5k0q",
        "outputId": "dde75560-ae28-4032-85ae-4118da6b5ae0"
      },
      "execution_count": null,
      "outputs": [
        {
          "output_type": "stream",
          "name": "stdout",
          "text": [
            "\n",
            "Class 1\n",
            "Column X0 Class 1\n"
          ]
        },
        {
          "output_type": "display_data",
          "data": {
            "image/png": "[encoded data removed]",
            "text/plain": [
              "<Figure size 216x216 with 1 Axes>"
            ]
          },
          "metadata": {
            "needs_background": "light"
          }
        },
        {
          "output_type": "stream",
          "name": "stdout",
          "text": [
            "Column X1 Class 1\n"
          ]
        },
        {
          "output_type": "display_data",
          "data": {
            "image/png": "[encoded data removed]",
            "text/plain": [
              "<Figure size 216x216 with 1 Axes>"
            ]
          },
          "metadata": {
            "needs_background": "light"
          }
        },
        {
          "output_type": "stream",
          "name": "stdout",
          "text": [
            "Column X2 Class 1\n"
          ]
        },
        {
          "output_type": "display_data",
          "data": {
            "image/png": "[encoded data removed]",
            "text/plain": [
              "<Figure size 216x216 with 1 Axes>"
            ]
          },
          "metadata": {
            "needs_background": "light"
          }
        },
        {
          "output_type": "stream",
          "name": "stdout",
          "text": [
            "Column X3 Class 1\n"
          ]
        },
        {
          "output_type": "display_data",
          "data": {
            "image/png": "[encoded data removed]",
            "text/plain": [
              "<Figure size 216x216 with 1 Axes>"
            ]
          },
          "metadata": {
            "needs_background": "light"
          }
        },
        {
          "output_type": "stream",
          "name": "stdout",
          "text": [
            "Column X4 Class 1\n"
          ]
        },
        {
          "output_type": "display_data",
          "data": {
            "image/png": "[encoded data removed]",
            "text/plain": [
              "<Figure size 216x216 with 1 Axes>"
            ]
          },
          "metadata": {
            "needs_background": "light"
          }
        },
        {
          "output_type": "stream",
          "name": "stdout",
          "text": [
            "Column X5 Class 1\n"
          ]
        },
        {
          "output_type": "display_data",
          "data": {
            "image/png": "[encoded data removed]",
            "text/plain": [
              "<Figure size 216x216 with 1 Axes>"
            ]
          },
          "metadata": {
            "needs_background": "light"
          }
        },
        {
          "output_type": "stream",
          "name": "stdout",
          "text": [
            "Column X6 Class 1\n"
          ]
        },
        {
          "output_type": "display_data",
          "data": {
            "image/png": "[encoded data removed]",
            "text/plain": [
              "<Figure size 216x216 with 1 Axes>"
            ]
          },
          "metadata": {
            "needs_background": "light"
          }
        },
        {
          "output_type": "stream",
          "name": "stdout",
          "text": [
            "\n",
            "Class 2\n",
            "Column X0 Class 2\n"
          ]
        },
        {
          "output_type": "display_data",
          "data": {
            "image/png": "[encoded data removed]",
            "text/plain": [
              "<Figure size 216x216 with 1 Axes>"
            ]
          },
          "metadata": {
            "needs_background": "light"
          }
        },
        {
          "output_type": "stream",
          "name": "stdout",
          "text": [
            "Column X1 Class 2\n"
          ]
        },
        {
          "output_type": "display_data",
          "data": {
            "image/png": "[encoded data removed]",
            "text/plain": [
              "<Figure size 216x216 with 1 Axes>"
            ]
          },
          "metadata": {
            "needs_background": "light"
          }
        },
        {
          "output_type": "stream",
          "name": "stdout",
          "text": [
            "Column X2 Class 2\n"
          ]
        },
        {
          "output_type": "display_data",
          "data": {
            "image/png": "[encoded data removed]",
            "text/plain": [
              "<Figure size 216x216 with 1 Axes>"
            ]
          },
          "metadata": {
            "needs_background": "light"
          }
        },
        {
          "output_type": "stream",
          "name": "stdout",
          "text": [
            "Column X3 Class 2\n"
          ]
        },
        {
          "output_type": "display_data",
          "data": {
            "image/png": "[encoded data removed]",
            "text/plain": [
              "<Figure size 216x216 with 1 Axes>"
            ]
          },
          "metadata": {
            "needs_background": "light"
          }
        },
        {
          "output_type": "stream",
          "name": "stdout",
          "text": [
            "Column X4 Class 2\n"
          ]
        },
        {
          "output_type": "display_data",
          "data": {
            "image/png": "[encoded data removed]",
            "text/plain": [
              "<Figure size 216x216 with 1 Axes>"
            ]
          },
          "metadata": {
            "needs_background": "light"
          }
        },
        {
          "output_type": "stream",
          "name": "stdout",
          "text": [
            "Column X5 Class 2\n"
          ]
        },
        {
          "output_type": "display_data",
          "data": {
            "image/png": "[encoded data removed]",
            "text/plain": [
              "<Figure size 216x216 with 1 Axes>"
            ]
          },
          "metadata": {
            "needs_background": "light"
          }
        },
        {
          "output_type": "stream",
          "name": "stdout",
          "text": [
            "Column X6 Class 2\n"
          ]
        },
        {
          "output_type": "display_data",
          "data": {
            "image/png": "[encoded data removed]",
            "text/plain": [
              "<Figure size 216x216 with 1 Axes>"
            ]
          },
          "metadata": {
            "needs_background": "light"
          }
        },
        {
          "output_type": "stream",
          "name": "stdout",
          "text": [
            "\n",
            "Class 3\n",
            "Column X0 Class 3\n"
          ]
        },
        {
          "output_type": "display_data",
          "data": {
            "image/png": "[encoded data removed]",
            "text/plain": [
              "<Figure size 216x216 with 1 Axes>"
            ]
          },
          "metadata": {
            "needs_background": "light"
          }
        },
        {
          "output_type": "stream",
          "name": "stdout",
          "text": [
            "Column X1 Class 3\n"
          ]
        },
        {
          "output_type": "display_data",
          "data": {
            "image/png": "[encoded data removed]",
            "text/plain": [
              "<Figure size 216x216 with 1 Axes>"
            ]
          },
          "metadata": {
            "needs_background": "light"
          }
        },
        {
          "output_type": "stream",
          "name": "stdout",
          "text": [
            "Column X2 Class 3\n"
          ]
        },
        {
          "output_type": "display_data",
          "data": {
            "image/png": "[encoded data removed]",
            "text/plain": [
              "<Figure size 216x216 with 1 Axes>"
            ]
          },
          "metadata": {
            "needs_background": "light"
          }
        },
        {
          "output_type": "stream",
          "name": "stdout",
          "text": [
            "Column X3 Class 3\n"
          ]
        },
        {
          "output_type": "display_data",
          "data": {
            "image/png": "[encoded data removed]",
            "text/plain": [
              "<Figure size 216x216 with 1 Axes>"
            ]
          },
          "metadata": {
            "needs_background": "light"
          }
        },
        {
          "output_type": "stream",
          "name": "stdout",
          "text": [
            "Column X4 Class 3\n"
          ]
        },
        {
          "output_type": "display_data",
          "data": {
            "image/png": "[encoded data removed]",
            "text/plain": [
              "<Figure size 216x216 with 1 Axes>"
            ]
          },
          "metadata": {
            "needs_background": "light"
          }
        },
        {
          "output_type": "stream",
          "name": "stdout",
          "text": [
            "Column X5 Class 3\n"
          ]
        },
        {
          "output_type": "display_data",
          "data": {
            "image/png": "[encoded data removed]",
            "text/plain": [
              "<Figure size 216x216 with 1 Axes>"
            ]
          },
          "metadata": {
            "needs_background": "light"
          }
        },
        {
          "output_type": "stream",
          "name": "stdout",
          "text": [
            "Column X6 Class 3\n"
          ]
        },
        {
          "output_type": "display_data",
          "data": {
            "image/png": "[encoded data removed]",
            "text/plain": [
              "<Figure size 216x216 with 1 Axes>"
            ]
          },
          "metadata": {
            "needs_background": "light"
          }
        }
      ]
    },
    {
      "cell_type": "markdown",
      "source": [
        "6]"
      ],
      "metadata": {
        "id": "B06hXZdT9sLi"
      }
    },
    {
      "cell_type": "code",
      "source": [
        "print(df)\n",
        "x = df.drop(['Y'], axis = 1)\n",
        "y = df.Y\n",
        "\n",
        "x_train,x_test,y_train,y_test = train_test_split(x,y,train_size  =0.7, random_state=0)\n",
        "x_train\n",
        "\n",
        "x1 = x_train[df['Y'] == 1]\n",
        "y1 = y_train[df['Y'] == 1]\n",
        "x2 = x_train[df['Y'] == 2]\n",
        "y2 = y_train[df['Y'] == 2]\n",
        "x3 = x_train[df['Y'] == 3]\n",
        "y3 = y_train[df['Y'] == 3]\n",
        "splitList = [[x1, y1], [x2, y2], [x3, y3]]\n",
        "\n",
        "plotList = []\n",
        "\n",
        "def Likelihood2(l, Class, splitList):\n",
        "    ans = 1\n",
        "    for i in range(len(l)):\n",
        "        col = \"X\" + str(i)\n",
        "        ans *= DescreteProb(col, l[i], Class, splitList)\n",
        "\n",
        "    return ans\n",
        "\n",
        "def Predict2(x_test, splitList):\n",
        "    l = []\n",
        "    indx = x_test.index\n",
        "    for i in range(len(indx)):\n",
        "        pr0 = Likelihood2(x_test.loc[indx[i]], 0, splitList) * (len(splitList[0][0].index) / len(x_train.index))\n",
        "        pr1 = Likelihood2(x_test.loc[indx[i]], 1, splitList) * (len(splitList[1][0].index) / len(x_train.index))\n",
        "        pr2 = Likelihood2(x_test.loc[indx[i]], 2, splitList) * (len(splitList[2][0].index) / len(x_train.index))\n",
        "        sum1 = pr1 + pr0 + pr2\n",
        "        pr2 = pr2 / sum1\n",
        "        pr1 = pr1 / sum1\n",
        "        pr0 = pr0 / sum1\n",
        "        plotList.append([pr0, pr1, pr2])\n",
        "        print(len(plotList), end=\" \")\n",
        "\n",
        "        if(pr1 > pr0 and pr1 > pr2):\n",
        "            l.append(2)\n",
        "        elif(pr2 > pr0):\n",
        "            l.append(3)\n",
        "        else:\n",
        "            l.append(1)\n",
        "\n",
        "\n",
        "    return l\n",
        "\n",
        "print(len(x_test.index))\n",
        "print(acc(y_test, Predict2(x_test, splitList)))\n",
        "print(y_test.tolist())"
      ],
      "metadata": {
        "colab": {
          "base_uri": "https://localhost:8080/"
        },
        "id": "6RPJr7ux9tUQ",
        "outputId": "95162434-cc2f-4605-f05d-e0fcc950243c"
      },
      "execution_count": null,
      "outputs": [
        {
          "output_type": "stream",
          "name": "stdout",
          "text": [
            "     X0  X1  X2  X3  X4  X5  X6  Y\n",
            "0     4   5   5   4   4   1   3  1\n",
            "1     4   4   6   3   5   0   2  1\n",
            "2     3   3   8   2   5   2   1  1\n",
            "3     3   3   7   2   5   1   1  1\n",
            "4     5   5   8   4   6   0   3  1\n",
            "..   ..  ..  ..  ..  ..  ..  .. ..\n",
            "205   1   1   6   1   2   3   1  3\n",
            "206   0   0   3   1   1   4   2  3\n",
            "207   2   2   7   1   4   9   2  3\n",
            "208   1   1   3   1   1   3   2  3\n",
            "209   1   1   5   1   2   6   2  3\n",
            "\n",
            "[210 rows x 8 columns]\n",
            "63\n",
            "1 2 3 4 5 6 7 8 9 10 11 12 13 14 15 16 17 18 19 20 21 22 23 24 25 26 27 28 29 30 31 32 33 34 35 36 37 38 39 40 41 42 43 44 45 46 47 48 49 50 51 52 53 54 55 56 57 58 59 60 61 62 63 0.9047619047619048\n",
            "[1, 2, 1, 1, 3, 2, 2, 2, 2, 3, 1, 3, 1, 3, 2, 2, 3, 1, 1, 1, 3, 1, 1, 1, 2, 2, 2, 2, 3, 3, 2, 3, 2, 2, 3, 3, 3, 2, 1, 2, 3, 1, 2, 3, 1, 2, 2, 1, 1, 2, 1, 2, 3, 3, 1, 1, 2, 2, 2, 2, 3, 2, 2]\n"
          ]
        },
        {
          "output_type": "stream",
          "name": "stderr",
          "text": [
            "/usr/local/lib/python3.7/dist-packages/ipykernel_launcher.py:8: UserWarning: Boolean Series key will be reindexed to match DataFrame index.\n",
            "  \n",
            "/usr/local/lib/python3.7/dist-packages/ipykernel_launcher.py:10: UserWarning: Boolean Series key will be reindexed to match DataFrame index.\n",
            "  # Remove the CWD from sys.path while we load stuff.\n",
            "/usr/local/lib/python3.7/dist-packages/ipykernel_launcher.py:12: UserWarning: Boolean Series key will be reindexed to match DataFrame index.\n",
            "  if sys.path[0] == '':\n"
          ]
        }
      ]
    },
    {
      "cell_type": "code",
      "source": [
        "l0 = []\n",
        "l1 = []\n",
        "l2 = []\n",
        "for i in plotList:\n",
        "    l0.append(i[0])\n",
        "    l1.append(i[1])\n",
        "    l2.append(i[2])\n",
        "\n",
        "print(len(plotList))\n",
        "plt.figure(figsize=(15, 15))\n",
        "plt.plot(range(len(plotList)), l0)\n",
        "plt.plot(range(len(plotList)), l1)\n",
        "plt.plot(range(len(plotList)), l2)\n",
        "plt.show()"
      ],
      "metadata": {
        "colab": {
          "base_uri": "https://localhost:8080/",
          "height": 880
        },
        "id": "GHzjuINlEnG9",
        "outputId": "191697cc-3291-4526-cf05-5b760df52a70"
      },
      "execution_count": null,
      "outputs": [
        {
          "output_type": "stream",
          "name": "stdout",
          "text": [
            "63\n"
          ]
        },
        {
          "output_type": "display_data",
          "data": {
            "image/png": "[encoded data removed]",
            "text/plain": [
              "<Figure size 1080x1080 with 1 Axes>"
            ]
          },
          "metadata": {
            "needs_background": "light"
          }
        }
      ]
    }
  ]
}